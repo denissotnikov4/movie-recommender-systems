{
  "nbformat": 4,
  "nbformat_minor": 5,
  "metadata": {
    "kernelspec": {
      "display_name": "Python 3",
      "language": "python",
      "name": "python3"
    },
    "language_info": {
      "codemirror_mode": {
        "name": "ipython",
        "version": 3
      },
      "file_extension": ".py",
      "mimetype": "text/x-python",
      "name": "python",
      "nbconvert_exporter": "python",
      "pygments_lexer": "ipython3",
      "version": "3.8.8"
    },
    "colab": {
      "name": "content_recommendation_system.ipynb",
      "provenance": []
    }
  },
  "cells": [
    {
      "cell_type": "code",
      "metadata": {
        "id": "7NR4pzOEZ6N7",
        "colab": {
          "base_uri": "https://localhost:8080/"
        },
        "outputId": "94fed3e8-1757-4737-e3c2-96397aa879a9"
      },
      "source": [
        "!pip install ast"
      ],
      "id": "7NR4pzOEZ6N7",
      "execution_count": 2,
      "outputs": [
        {
          "output_type": "stream",
          "text": [
            "Collecting ast\n",
            "  Using cached AST-0.0.2.tar.gz (19 kB)\n",
            "\u001b[33mWARNING: Discarding https://files.pythonhosted.org/packages/4b/fb/2b954d2a38c9a0ef1da6a46737a75b4dbf6f60e5dad0f267a4ec5ece20de/AST-0.0.2.tar.gz#sha256=dc5b79c6ba11aea72c59c791a0bc5ae483b4c18fec6f643002d6fae24361eba0 (from https://pypi.org/simple/ast/). Command errored out with exit status 1: python setup.py egg_info Check the logs for full command output.\u001b[0m\n",
            "  Using cached AST-0.0.1.tar.gz (19 kB)\n",
            "\u001b[33mWARNING: Discarding https://files.pythonhosted.org/packages/a8/5a/5497b01657ead33200c98009cb9e78fe5986c90cc39ddaa64306f37472cf/AST-0.0.1.tar.gz#sha256=3ed8a7bd3526cfc46de1b849d92b03ae4600ed2042151f187b756c50ade5c2b0 (from https://pypi.org/simple/ast/). Command errored out with exit status 1: python setup.py egg_info Check the logs for full command output.\u001b[0m\n",
            "\u001b[31mERROR: Could not find a version that satisfies the requirement ast (from versions: 0.0.1, 0.0.2)\u001b[0m\n",
            "\u001b[31mERROR: No matching distribution found for ast\u001b[0m\n"
          ],
          "name": "stdout"
        }
      ]
    },
    {
      "cell_type": "code",
      "metadata": {
        "id": "eu6eFIKdV5Ym",
        "colab": {
          "base_uri": "https://localhost:8080/"
        },
        "outputId": "5a1f2a36-a222-4f13-ab50-09ea2cafc343"
      },
      "source": [
        "from google.colab import drive\n",
        "drive.mount('/content/drive')"
      ],
      "id": "eu6eFIKdV5Ym",
      "execution_count": 4,
      "outputs": [
        {
          "output_type": "stream",
          "text": [
            "Drive already mounted at /content/drive; to attempt to forcibly remount, call drive.mount(\"/content/drive\", force_remount=True).\n"
          ],
          "name": "stdout"
        }
      ]
    },
    {
      "cell_type": "code",
      "metadata": {
        "id": "a91c05a6"
      },
      "source": [
        "import pandas as pd\n",
        "import numpy as np\n",
        "import ast\n",
        "from sklearn.preprocessing import MultiLabelBinarizer"
      ],
      "id": "a91c05a6",
      "execution_count": 5,
      "outputs": []
    },
    {
      "cell_type": "markdown",
      "metadata": {
        "id": "50IeSQTmmQOY"
      },
      "source": [
        "\n",
        "\n",
        "---\n",
        "\n",
        "# Importing the datasets\n",
        "\n",
        "---\n",
        "\n"
      ],
      "id": "50IeSQTmmQOY"
    },
    {
      "cell_type": "code",
      "metadata": {
        "id": "rionNU-_VzQe"
      },
      "source": [
        "df_links_small = pd.read_csv('/content/drive/MyDrive/DataSets/the-movies-dataset/links_small.csv')"
      ],
      "id": "rionNU-_VzQe",
      "execution_count": 90,
      "outputs": []
    },
    {
      "cell_type": "code",
      "metadata": {
        "id": "Kcmb2RjwWPza"
      },
      "source": [
        "df_keywords = pd.read_csv('/content/drive/MyDrive/DataSets/the-movies-dataset/keywords.csv')"
      ],
      "id": "Kcmb2RjwWPza",
      "execution_count": 91,
      "outputs": []
    },
    {
      "cell_type": "code",
      "metadata": {
        "id": "0luKVIysWVKc"
      },
      "source": [
        "df_credits = pd.read_csv('/content/drive/MyDrive/DataSets/the-movies-dataset/credits.csv')"
      ],
      "id": "0luKVIysWVKc",
      "execution_count": 92,
      "outputs": []
    },
    {
      "cell_type": "code",
      "metadata": {
        "id": "LF5yQnrpWcEG"
      },
      "source": [
        "df_movies_metadata_fixed = pd.read_csv('/content/drive/MyDrive/DataSets/the-movies-dataset/movies_metadata_fixed.csv')"
      ],
      "id": "LF5yQnrpWcEG",
      "execution_count": 93,
      "outputs": []
    },
    {
      "cell_type": "code",
      "metadata": {
        "id": "N4RiuDTsWpbR",
        "colab": {
          "base_uri": "https://localhost:8080/",
          "height": 0
        },
        "outputId": "3267265e-8eca-4b67-ecc2-1826de7ef7ce"
      },
      "source": [
        "display(df_links_small.head())\n",
        "\n",
        "display(df_links_small.shape)"
      ],
      "id": "N4RiuDTsWpbR",
      "execution_count": 94,
      "outputs": [
        {
          "output_type": "display_data",
          "data": {
            "text/html": [
              "<div>\n",
              "<style scoped>\n",
              "    .dataframe tbody tr th:only-of-type {\n",
              "        vertical-align: middle;\n",
              "    }\n",
              "\n",
              "    .dataframe tbody tr th {\n",
              "        vertical-align: top;\n",
              "    }\n",
              "\n",
              "    .dataframe thead th {\n",
              "        text-align: right;\n",
              "    }\n",
              "</style>\n",
              "<table border=\"1\" class=\"dataframe\">\n",
              "  <thead>\n",
              "    <tr style=\"text-align: right;\">\n",
              "      <th></th>\n",
              "      <th>movieId</th>\n",
              "      <th>imdbId</th>\n",
              "      <th>tmdbId</th>\n",
              "    </tr>\n",
              "  </thead>\n",
              "  <tbody>\n",
              "    <tr>\n",
              "      <th>0</th>\n",
              "      <td>1</td>\n",
              "      <td>114709</td>\n",
              "      <td>862.0</td>\n",
              "    </tr>\n",
              "    <tr>\n",
              "      <th>1</th>\n",
              "      <td>2</td>\n",
              "      <td>113497</td>\n",
              "      <td>8844.0</td>\n",
              "    </tr>\n",
              "    <tr>\n",
              "      <th>2</th>\n",
              "      <td>3</td>\n",
              "      <td>113228</td>\n",
              "      <td>15602.0</td>\n",
              "    </tr>\n",
              "    <tr>\n",
              "      <th>3</th>\n",
              "      <td>4</td>\n",
              "      <td>114885</td>\n",
              "      <td>31357.0</td>\n",
              "    </tr>\n",
              "    <tr>\n",
              "      <th>4</th>\n",
              "      <td>5</td>\n",
              "      <td>113041</td>\n",
              "      <td>11862.0</td>\n",
              "    </tr>\n",
              "  </tbody>\n",
              "</table>\n",
              "</div>"
            ],
            "text/plain": [
              "   movieId  imdbId   tmdbId\n",
              "0        1  114709    862.0\n",
              "1        2  113497   8844.0\n",
              "2        3  113228  15602.0\n",
              "3        4  114885  31357.0\n",
              "4        5  113041  11862.0"
            ]
          },
          "metadata": {
            "tags": []
          }
        },
        {
          "output_type": "display_data",
          "data": {
            "text/plain": [
              "(9125, 3)"
            ]
          },
          "metadata": {
            "tags": []
          }
        }
      ]
    },
    {
      "cell_type": "code",
      "metadata": {
        "id": "l2YK4LbhWwdR",
        "colab": {
          "base_uri": "https://localhost:8080/",
          "height": 0
        },
        "outputId": "c8c5611d-2265-439c-b392-3bcc9255417d"
      },
      "source": [
        "display(df_keywords.head())\n",
        "\n",
        "display(df_keywords.shape)"
      ],
      "id": "l2YK4LbhWwdR",
      "execution_count": 95,
      "outputs": [
        {
          "output_type": "display_data",
          "data": {
            "text/html": [
              "<div>\n",
              "<style scoped>\n",
              "    .dataframe tbody tr th:only-of-type {\n",
              "        vertical-align: middle;\n",
              "    }\n",
              "\n",
              "    .dataframe tbody tr th {\n",
              "        vertical-align: top;\n",
              "    }\n",
              "\n",
              "    .dataframe thead th {\n",
              "        text-align: right;\n",
              "    }\n",
              "</style>\n",
              "<table border=\"1\" class=\"dataframe\">\n",
              "  <thead>\n",
              "    <tr style=\"text-align: right;\">\n",
              "      <th></th>\n",
              "      <th>id</th>\n",
              "      <th>keywords</th>\n",
              "    </tr>\n",
              "  </thead>\n",
              "  <tbody>\n",
              "    <tr>\n",
              "      <th>0</th>\n",
              "      <td>862</td>\n",
              "      <td>[{'id': 931, 'name': 'jealousy'}, {'id': 4290,...</td>\n",
              "    </tr>\n",
              "    <tr>\n",
              "      <th>1</th>\n",
              "      <td>8844</td>\n",
              "      <td>[{'id': 10090, 'name': 'board game'}, {'id': 1...</td>\n",
              "    </tr>\n",
              "    <tr>\n",
              "      <th>2</th>\n",
              "      <td>15602</td>\n",
              "      <td>[{'id': 1495, 'name': 'fishing'}, {'id': 12392...</td>\n",
              "    </tr>\n",
              "    <tr>\n",
              "      <th>3</th>\n",
              "      <td>31357</td>\n",
              "      <td>[{'id': 818, 'name': 'based on novel'}, {'id':...</td>\n",
              "    </tr>\n",
              "    <tr>\n",
              "      <th>4</th>\n",
              "      <td>11862</td>\n",
              "      <td>[{'id': 1009, 'name': 'baby'}, {'id': 1599, 'n...</td>\n",
              "    </tr>\n",
              "  </tbody>\n",
              "</table>\n",
              "</div>"
            ],
            "text/plain": [
              "      id                                           keywords\n",
              "0    862  [{'id': 931, 'name': 'jealousy'}, {'id': 4290,...\n",
              "1   8844  [{'id': 10090, 'name': 'board game'}, {'id': 1...\n",
              "2  15602  [{'id': 1495, 'name': 'fishing'}, {'id': 12392...\n",
              "3  31357  [{'id': 818, 'name': 'based on novel'}, {'id':...\n",
              "4  11862  [{'id': 1009, 'name': 'baby'}, {'id': 1599, 'n..."
            ]
          },
          "metadata": {
            "tags": []
          }
        },
        {
          "output_type": "display_data",
          "data": {
            "text/plain": [
              "(46419, 2)"
            ]
          },
          "metadata": {
            "tags": []
          }
        }
      ]
    },
    {
      "cell_type": "code",
      "metadata": {
        "id": "Iy3sWFHBWy5n",
        "colab": {
          "base_uri": "https://localhost:8080/",
          "height": 0
        },
        "outputId": "ef95463c-5988-4e55-e5b8-9db622b65da1"
      },
      "source": [
        "display(df_credits.head())\n",
        "\n",
        "display(df_credits.shape)"
      ],
      "id": "Iy3sWFHBWy5n",
      "execution_count": 96,
      "outputs": [
        {
          "output_type": "display_data",
          "data": {
            "text/html": [
              "<div>\n",
              "<style scoped>\n",
              "    .dataframe tbody tr th:only-of-type {\n",
              "        vertical-align: middle;\n",
              "    }\n",
              "\n",
              "    .dataframe tbody tr th {\n",
              "        vertical-align: top;\n",
              "    }\n",
              "\n",
              "    .dataframe thead th {\n",
              "        text-align: right;\n",
              "    }\n",
              "</style>\n",
              "<table border=\"1\" class=\"dataframe\">\n",
              "  <thead>\n",
              "    <tr style=\"text-align: right;\">\n",
              "      <th></th>\n",
              "      <th>cast</th>\n",
              "      <th>crew</th>\n",
              "      <th>id</th>\n",
              "    </tr>\n",
              "  </thead>\n",
              "  <tbody>\n",
              "    <tr>\n",
              "      <th>0</th>\n",
              "      <td>[{'cast_id': 14, 'character': 'Woody (voice)',...</td>\n",
              "      <td>[{'credit_id': '52fe4284c3a36847f8024f49', 'de...</td>\n",
              "      <td>862</td>\n",
              "    </tr>\n",
              "    <tr>\n",
              "      <th>1</th>\n",
              "      <td>[{'cast_id': 1, 'character': 'Alan Parrish', '...</td>\n",
              "      <td>[{'credit_id': '52fe44bfc3a36847f80a7cd1', 'de...</td>\n",
              "      <td>8844</td>\n",
              "    </tr>\n",
              "    <tr>\n",
              "      <th>2</th>\n",
              "      <td>[{'cast_id': 2, 'character': 'Max Goldman', 'c...</td>\n",
              "      <td>[{'credit_id': '52fe466a9251416c75077a89', 'de...</td>\n",
              "      <td>15602</td>\n",
              "    </tr>\n",
              "    <tr>\n",
              "      <th>3</th>\n",
              "      <td>[{'cast_id': 1, 'character': \"Savannah 'Vannah...</td>\n",
              "      <td>[{'credit_id': '52fe44779251416c91011acb', 'de...</td>\n",
              "      <td>31357</td>\n",
              "    </tr>\n",
              "    <tr>\n",
              "      <th>4</th>\n",
              "      <td>[{'cast_id': 1, 'character': 'George Banks', '...</td>\n",
              "      <td>[{'credit_id': '52fe44959251416c75039ed7', 'de...</td>\n",
              "      <td>11862</td>\n",
              "    </tr>\n",
              "  </tbody>\n",
              "</table>\n",
              "</div>"
            ],
            "text/plain": [
              "                                                cast  ...     id\n",
              "0  [{'cast_id': 14, 'character': 'Woody (voice)',...  ...    862\n",
              "1  [{'cast_id': 1, 'character': 'Alan Parrish', '...  ...   8844\n",
              "2  [{'cast_id': 2, 'character': 'Max Goldman', 'c...  ...  15602\n",
              "3  [{'cast_id': 1, 'character': \"Savannah 'Vannah...  ...  31357\n",
              "4  [{'cast_id': 1, 'character': 'George Banks', '...  ...  11862\n",
              "\n",
              "[5 rows x 3 columns]"
            ]
          },
          "metadata": {
            "tags": []
          }
        },
        {
          "output_type": "display_data",
          "data": {
            "text/plain": [
              "(45476, 3)"
            ]
          },
          "metadata": {
            "tags": []
          }
        }
      ]
    },
    {
      "cell_type": "code",
      "metadata": {
        "id": "IgbOb5BqW6CU",
        "colab": {
          "base_uri": "https://localhost:8080/",
          "height": 0
        },
        "outputId": "2aeb3ce2-3770-4c93-82b5-cc9e70b3eea0"
      },
      "source": [
        "display(df_movies_metadata_fixed.head(1))\n",
        "\n",
        "display(df_movies_metadata_fixed.shape)"
      ],
      "id": "IgbOb5BqW6CU",
      "execution_count": 97,
      "outputs": [
        {
          "output_type": "display_data",
          "data": {
            "text/html": [
              "<div>\n",
              "<style scoped>\n",
              "    .dataframe tbody tr th:only-of-type {\n",
              "        vertical-align: middle;\n",
              "    }\n",
              "\n",
              "    .dataframe tbody tr th {\n",
              "        vertical-align: top;\n",
              "    }\n",
              "\n",
              "    .dataframe thead th {\n",
              "        text-align: right;\n",
              "    }\n",
              "</style>\n",
              "<table border=\"1\" class=\"dataframe\">\n",
              "  <thead>\n",
              "    <tr style=\"text-align: right;\">\n",
              "      <th></th>\n",
              "      <th>adult</th>\n",
              "      <th>belongs_to_collection</th>\n",
              "      <th>budget</th>\n",
              "      <th>genres</th>\n",
              "      <th>homepage</th>\n",
              "      <th>id</th>\n",
              "      <th>imdb_id</th>\n",
              "      <th>original_language</th>\n",
              "      <th>original_title</th>\n",
              "      <th>overview</th>\n",
              "      <th>popularity</th>\n",
              "      <th>poster_path</th>\n",
              "      <th>production_companies</th>\n",
              "      <th>production_countries</th>\n",
              "      <th>release_date</th>\n",
              "      <th>revenue</th>\n",
              "      <th>runtime</th>\n",
              "      <th>spoken_languages</th>\n",
              "      <th>status</th>\n",
              "      <th>tagline</th>\n",
              "      <th>title</th>\n",
              "      <th>video</th>\n",
              "      <th>vote_average</th>\n",
              "      <th>vote_count</th>\n",
              "    </tr>\n",
              "  </thead>\n",
              "  <tbody>\n",
              "    <tr>\n",
              "      <th>0</th>\n",
              "      <td>False</td>\n",
              "      <td>{'id': 10194, 'name': 'Toy Story Collection', ...</td>\n",
              "      <td>30000000</td>\n",
              "      <td>[{'id': 16, 'name': 'Animation'}, {'id': 35, '...</td>\n",
              "      <td>http://toystory.disney.com/toy-story</td>\n",
              "      <td>862</td>\n",
              "      <td>tt0114709</td>\n",
              "      <td>en</td>\n",
              "      <td>Toy Story</td>\n",
              "      <td>Led by Woody, Andy's toys live happily in his ...</td>\n",
              "      <td>21.946943</td>\n",
              "      <td>/rhIRbceoE9lR4veEXuwCC2wARtG.jpg</td>\n",
              "      <td>[{'name': 'Pixar Animation Studios', 'id': 3}]</td>\n",
              "      <td>[{'iso_3166_1': 'US', 'name': 'United States o...</td>\n",
              "      <td>1995-10-30</td>\n",
              "      <td>373554033</td>\n",
              "      <td>81.0</td>\n",
              "      <td>[{'iso_639_1': 'en', 'name': 'English'}]</td>\n",
              "      <td>Released</td>\n",
              "      <td>NaN</td>\n",
              "      <td>Toy Story</td>\n",
              "      <td>False</td>\n",
              "      <td>7.7</td>\n",
              "      <td>5415</td>\n",
              "    </tr>\n",
              "  </tbody>\n",
              "</table>\n",
              "</div>"
            ],
            "text/plain": [
              "   adult  ... vote_count\n",
              "0  False  ...       5415\n",
              "\n",
              "[1 rows x 24 columns]"
            ]
          },
          "metadata": {
            "tags": []
          }
        },
        {
          "output_type": "display_data",
          "data": {
            "text/plain": [
              "(45463, 24)"
            ]
          },
          "metadata": {
            "tags": []
          }
        }
      ]
    },
    {
      "cell_type": "markdown",
      "metadata": {
        "id": "lt62tMhfXbGz"
      },
      "source": [
        "\n",
        "\n",
        "---\n",
        "# Feature selection\n",
        "---\n",
        "\n",
        "\n",
        "\n"
      ],
      "id": "lt62tMhfXbGz"
    },
    {
      "cell_type": "code",
      "metadata": {
        "id": "H_v_gu8KXegD",
        "colab": {
          "base_uri": "https://localhost:8080/",
          "height": 0
        },
        "outputId": "8c88ebd4-9085-4dcc-c008-cdb2b51687da"
      },
      "source": [
        "df_movies_metadata_fixed = df_movies_metadata_fixed[['id', 'title', 'release_date', 'vote_count', 'vote_average', 'genres']]\n",
        "df_movies_metadata_fixed.head()"
      ],
      "id": "H_v_gu8KXegD",
      "execution_count": 98,
      "outputs": [
        {
          "output_type": "execute_result",
          "data": {
            "text/html": [
              "<div>\n",
              "<style scoped>\n",
              "    .dataframe tbody tr th:only-of-type {\n",
              "        vertical-align: middle;\n",
              "    }\n",
              "\n",
              "    .dataframe tbody tr th {\n",
              "        vertical-align: top;\n",
              "    }\n",
              "\n",
              "    .dataframe thead th {\n",
              "        text-align: right;\n",
              "    }\n",
              "</style>\n",
              "<table border=\"1\" class=\"dataframe\">\n",
              "  <thead>\n",
              "    <tr style=\"text-align: right;\">\n",
              "      <th></th>\n",
              "      <th>id</th>\n",
              "      <th>title</th>\n",
              "      <th>release_date</th>\n",
              "      <th>vote_count</th>\n",
              "      <th>vote_average</th>\n",
              "      <th>genres</th>\n",
              "    </tr>\n",
              "  </thead>\n",
              "  <tbody>\n",
              "    <tr>\n",
              "      <th>0</th>\n",
              "      <td>862</td>\n",
              "      <td>Toy Story</td>\n",
              "      <td>1995-10-30</td>\n",
              "      <td>5415</td>\n",
              "      <td>7.7</td>\n",
              "      <td>[{'id': 16, 'name': 'Animation'}, {'id': 35, '...</td>\n",
              "    </tr>\n",
              "    <tr>\n",
              "      <th>1</th>\n",
              "      <td>8844</td>\n",
              "      <td>Jumanji</td>\n",
              "      <td>1995-12-15</td>\n",
              "      <td>2413</td>\n",
              "      <td>6.9</td>\n",
              "      <td>[{'id': 12, 'name': 'Adventure'}, {'id': 14, '...</td>\n",
              "    </tr>\n",
              "    <tr>\n",
              "      <th>2</th>\n",
              "      <td>15602</td>\n",
              "      <td>Grumpier Old Men</td>\n",
              "      <td>1995-12-22</td>\n",
              "      <td>92</td>\n",
              "      <td>6.5</td>\n",
              "      <td>[{'id': 10749, 'name': 'Romance'}, {'id': 35, ...</td>\n",
              "    </tr>\n",
              "    <tr>\n",
              "      <th>3</th>\n",
              "      <td>31357</td>\n",
              "      <td>Waiting to Exhale</td>\n",
              "      <td>1995-12-22</td>\n",
              "      <td>34</td>\n",
              "      <td>6.1</td>\n",
              "      <td>[{'id': 35, 'name': 'Comedy'}, {'id': 18, 'nam...</td>\n",
              "    </tr>\n",
              "    <tr>\n",
              "      <th>4</th>\n",
              "      <td>11862</td>\n",
              "      <td>Father of the Bride Part II</td>\n",
              "      <td>1995-02-10</td>\n",
              "      <td>173</td>\n",
              "      <td>5.7</td>\n",
              "      <td>[{'id': 35, 'name': 'Comedy'}]</td>\n",
              "    </tr>\n",
              "  </tbody>\n",
              "</table>\n",
              "</div>"
            ],
            "text/plain": [
              "      id  ...                                             genres\n",
              "0    862  ...  [{'id': 16, 'name': 'Animation'}, {'id': 35, '...\n",
              "1   8844  ...  [{'id': 12, 'name': 'Adventure'}, {'id': 14, '...\n",
              "2  15602  ...  [{'id': 10749, 'name': 'Romance'}, {'id': 35, ...\n",
              "3  31357  ...  [{'id': 35, 'name': 'Comedy'}, {'id': 18, 'nam...\n",
              "4  11862  ...                     [{'id': 35, 'name': 'Comedy'}]\n",
              "\n",
              "[5 rows x 6 columns]"
            ]
          },
          "metadata": {
            "tags": []
          },
          "execution_count": 98
        }
      ]
    },
    {
      "cell_type": "code",
      "metadata": {
        "id": "egfFKcRYYS50",
        "colab": {
          "base_uri": "https://localhost:8080/",
          "height": 0
        },
        "outputId": "910400c4-eed4-4250-d43c-3563f376e558"
      },
      "source": [
        "df = df_movies_metadata_fixed.merge(df_credits, how='inner', on='id')\n",
        "df.head(1)"
      ],
      "id": "egfFKcRYYS50",
      "execution_count": 99,
      "outputs": [
        {
          "output_type": "execute_result",
          "data": {
            "text/html": [
              "<div>\n",
              "<style scoped>\n",
              "    .dataframe tbody tr th:only-of-type {\n",
              "        vertical-align: middle;\n",
              "    }\n",
              "\n",
              "    .dataframe tbody tr th {\n",
              "        vertical-align: top;\n",
              "    }\n",
              "\n",
              "    .dataframe thead th {\n",
              "        text-align: right;\n",
              "    }\n",
              "</style>\n",
              "<table border=\"1\" class=\"dataframe\">\n",
              "  <thead>\n",
              "    <tr style=\"text-align: right;\">\n",
              "      <th></th>\n",
              "      <th>id</th>\n",
              "      <th>title</th>\n",
              "      <th>release_date</th>\n",
              "      <th>vote_count</th>\n",
              "      <th>vote_average</th>\n",
              "      <th>genres</th>\n",
              "      <th>cast</th>\n",
              "      <th>crew</th>\n",
              "    </tr>\n",
              "  </thead>\n",
              "  <tbody>\n",
              "    <tr>\n",
              "      <th>0</th>\n",
              "      <td>862</td>\n",
              "      <td>Toy Story</td>\n",
              "      <td>1995-10-30</td>\n",
              "      <td>5415</td>\n",
              "      <td>7.7</td>\n",
              "      <td>[{'id': 16, 'name': 'Animation'}, {'id': 35, '...</td>\n",
              "      <td>[{'cast_id': 14, 'character': 'Woody (voice)',...</td>\n",
              "      <td>[{'credit_id': '52fe4284c3a36847f8024f49', 'de...</td>\n",
              "    </tr>\n",
              "  </tbody>\n",
              "</table>\n",
              "</div>"
            ],
            "text/plain": [
              "    id  ...                                               crew\n",
              "0  862  ...  [{'credit_id': '52fe4284c3a36847f8024f49', 'de...\n",
              "\n",
              "[1 rows x 8 columns]"
            ]
          },
          "metadata": {
            "tags": []
          },
          "execution_count": 99
        }
      ]
    },
    {
      "cell_type": "code",
      "metadata": {
        "id": "o8cNRk_gZAdF",
        "colab": {
          "base_uri": "https://localhost:8080/",
          "height": 0
        },
        "outputId": "af7acecc-573e-4120-8598-6ecbb95896e6"
      },
      "source": [
        "df = df.merge(df_keywords, how='inner', on='id')\n",
        "df.head(1)"
      ],
      "id": "o8cNRk_gZAdF",
      "execution_count": 100,
      "outputs": [
        {
          "output_type": "execute_result",
          "data": {
            "text/html": [
              "<div>\n",
              "<style scoped>\n",
              "    .dataframe tbody tr th:only-of-type {\n",
              "        vertical-align: middle;\n",
              "    }\n",
              "\n",
              "    .dataframe tbody tr th {\n",
              "        vertical-align: top;\n",
              "    }\n",
              "\n",
              "    .dataframe thead th {\n",
              "        text-align: right;\n",
              "    }\n",
              "</style>\n",
              "<table border=\"1\" class=\"dataframe\">\n",
              "  <thead>\n",
              "    <tr style=\"text-align: right;\">\n",
              "      <th></th>\n",
              "      <th>id</th>\n",
              "      <th>title</th>\n",
              "      <th>release_date</th>\n",
              "      <th>vote_count</th>\n",
              "      <th>vote_average</th>\n",
              "      <th>genres</th>\n",
              "      <th>cast</th>\n",
              "      <th>crew</th>\n",
              "      <th>keywords</th>\n",
              "    </tr>\n",
              "  </thead>\n",
              "  <tbody>\n",
              "    <tr>\n",
              "      <th>0</th>\n",
              "      <td>862</td>\n",
              "      <td>Toy Story</td>\n",
              "      <td>1995-10-30</td>\n",
              "      <td>5415</td>\n",
              "      <td>7.7</td>\n",
              "      <td>[{'id': 16, 'name': 'Animation'}, {'id': 35, '...</td>\n",
              "      <td>[{'cast_id': 14, 'character': 'Woody (voice)',...</td>\n",
              "      <td>[{'credit_id': '52fe4284c3a36847f8024f49', 'de...</td>\n",
              "      <td>[{'id': 931, 'name': 'jealousy'}, {'id': 4290,...</td>\n",
              "    </tr>\n",
              "  </tbody>\n",
              "</table>\n",
              "</div>"
            ],
            "text/plain": [
              "    id  ...                                           keywords\n",
              "0  862  ...  [{'id': 931, 'name': 'jealousy'}, {'id': 4290,...\n",
              "\n",
              "[1 rows x 9 columns]"
            ]
          },
          "metadata": {
            "tags": []
          },
          "execution_count": 100
        }
      ]
    },
    {
      "cell_type": "code",
      "metadata": {
        "id": "N2jll94UaKg6",
        "colab": {
          "base_uri": "https://localhost:8080/"
        },
        "outputId": "e585d78b-5c82-477e-ab86-907d4f653a31"
      },
      "source": [
        "df.shape"
      ],
      "id": "N2jll94UaKg6",
      "execution_count": 101,
      "outputs": [
        {
          "output_type": "execute_result",
          "data": {
            "text/plain": [
              "(46628, 9)"
            ]
          },
          "metadata": {
            "tags": []
          },
          "execution_count": 101
        }
      ]
    },
    {
      "cell_type": "markdown",
      "metadata": {
        "id": "QSRcnNNIazKP"
      },
      "source": [
        "\n",
        "\n",
        "---\n",
        "\n",
        "# Work with categorical data\n",
        "\n",
        "---\n",
        "\n"
      ],
      "id": "QSRcnNNIazKP"
    },
    {
      "cell_type": "code",
      "metadata": {
        "id": "9_6hPyOTlfa7"
      },
      "source": [
        "def handling_json(df, feature, value):\n",
        "  df[feature] = df[feature].fillna('[]') \\\n",
        "                             .apply(ast.literal_eval) \\\n",
        "                             .apply(lambda x: [i[value] for i in x] if isinstance(x, list) else [])\n",
        "\n",
        "  df[feature] = [', '.join(i) for i in df[feature]]\n",
        "  df[feature] = pd.DataFrame(data=map(str.lower, df[feature])) \n",
        "  df[feature] = [i.replace(\",\", \"\") for i in df[feature]]\n",
        "\n",
        "  return df"
      ],
      "id": "9_6hPyOTlfa7",
      "execution_count": 362,
      "outputs": []
    },
    {
      "cell_type": "markdown",
      "metadata": {
        "id": "HYQuhIWPZgZ-"
      },
      "source": [
        "---\n",
        "## Handling 'genres' column\n",
        "---"
      ],
      "id": "HYQuhIWPZgZ-"
    },
    {
      "cell_type": "code",
      "metadata": {
        "id": "s8k0b9HLZnP9"
      },
      "source": [
        "def handling_genres_column_json(df):\n",
        "  df['genres'] = df['genres'].fillna('[]') \\\n",
        "                             .apply(ast.literal_eval) \\\n",
        "                             .apply(lambda x: [i['name'] for i in x] if isinstance(x, list) else [])\n",
        "\n",
        "  '''mlb = MultiLabelBinarizer(sparse_output=True)\n",
        "\n",
        "     df = df.join(pd.DataFrame.sparse.from_spmatrix(\n",
        "                    mlb.fit_transform(df.pop('genres')),\n",
        "                    index=df.index,\n",
        "                    columns=mlb.classes_))'''\n",
        "\n",
        "  df.genres = [', '.join(i) for i in df.genres]\n",
        "  df.genres = pd.DataFrame(data=map(str.lower, df.genres)) \n",
        "  df.genres = [i.replace(\",\", \"\") for i in df.genres]\n",
        "\n",
        "  return df"
      ],
      "id": "s8k0b9HLZnP9",
      "execution_count": 102,
      "outputs": []
    },
    {
      "cell_type": "code",
      "metadata": {
        "id": "BLs5qkhEZ21C"
      },
      "source": [
        "df = handling_genres_column_json(df)"
      ],
      "id": "BLs5qkhEZ21C",
      "execution_count": 103,
      "outputs": []
    },
    {
      "cell_type": "code",
      "metadata": {
        "id": "zHxgJzSXktUA",
        "colab": {
          "base_uri": "https://localhost:8080/"
        },
        "outputId": "c330dd0b-bb3c-434f-b022-3127629aeae3"
      },
      "source": [
        "df.genres.head()"
      ],
      "id": "zHxgJzSXktUA",
      "execution_count": 104,
      "outputs": [
        {
          "output_type": "execute_result",
          "data": {
            "text/plain": [
              "0     animation comedy family\n",
              "1    adventure fantasy family\n",
              "2              romance comedy\n",
              "3        comedy drama romance\n",
              "4                      comedy\n",
              "Name: genres, dtype: object"
            ]
          },
          "metadata": {
            "tags": []
          },
          "execution_count": 104
        }
      ]
    },
    {
      "cell_type": "markdown",
      "metadata": {
        "id": "O6YtzUDYarjy"
      },
      "source": [
        "\n",
        "\n",
        "---\n",
        "\n",
        "## Handling 'cast' column\n",
        "\n",
        "---\n",
        "\n"
      ],
      "id": "O6YtzUDYarjy"
    },
    {
      "cell_type": "code",
      "metadata": {
        "id": "Og26A8FpnAEC"
      },
      "source": [
        "def handling_cast_column_json(df):\n",
        "  df['cast'] = df['cast'].fillna('[]') \\\n",
        "                             .apply(ast.literal_eval) \\\n",
        "                             .apply(lambda x: [i['name'] for i in x] if isinstance(x, list) else [])\n",
        "\n",
        "  df.cast = [', '.join(i) for i in df.cast]\n",
        "  df.cast = pd.DataFrame(data=map(str.lower, df.cast)) \n",
        "  df.cast = [i.replace(\" \", \"\") for i in df['cast']]\n",
        "  df.cast = [i.replace(\",\", \" \") for i in df['cast']]\n",
        "  return df"
      ],
      "id": "Og26A8FpnAEC",
      "execution_count": 105,
      "outputs": []
    },
    {
      "cell_type": "code",
      "metadata": {
        "id": "hDiQnalmbtun"
      },
      "source": [
        "df = handling_cast_column_json(df)"
      ],
      "id": "hDiQnalmbtun",
      "execution_count": 106,
      "outputs": []
    },
    {
      "cell_type": "code",
      "metadata": {
        "id": "HN0Q2k_QsV3q",
        "colab": {
          "base_uri": "https://localhost:8080/"
        },
        "outputId": "f7ac330e-a491-4c92-b5a0-b806ff2815b8"
      },
      "source": [
        "df.cast.head()"
      ],
      "id": "HN0Q2k_QsV3q",
      "execution_count": 107,
      "outputs": [
        {
          "output_type": "execute_result",
          "data": {
            "text/plain": [
              "0    tomhanks timallen donrickles jimvarney wallace...\n",
              "1    robinwilliams jonathanhyde kirstendunst bradle...\n",
              "2    waltermatthau jacklemmon ann-margret sophialor...\n",
              "3    whitneyhouston angelabassett lorettadevine lel...\n",
              "4    stevemartin dianekeaton martinshort kimberlywi...\n",
              "Name: cast, dtype: object"
            ]
          },
          "metadata": {
            "tags": []
          },
          "execution_count": 107
        }
      ]
    },
    {
      "cell_type": "markdown",
      "metadata": {
        "id": "VLIjrDNmdKuF"
      },
      "source": [
        "\n",
        "\n",
        "---\n",
        "\n",
        "## Handling 'crew' column\n",
        "\n",
        "---\n",
        "\n"
      ],
      "id": "VLIjrDNmdKuF"
    },
    {
      "cell_type": "code",
      "metadata": {
        "id": "efNGs7XAboOT",
        "colab": {
          "base_uri": "https://localhost:8080/"
        },
        "outputId": "bfc93ef9-95fb-48dd-ecca-edf7c88505b7"
      },
      "source": [
        "df['crew'] = df['crew'].apply(ast.literal_eval)\n",
        "df.crew.head()"
      ],
      "id": "efNGs7XAboOT",
      "execution_count": 108,
      "outputs": [
        {
          "output_type": "execute_result",
          "data": {
            "text/plain": [
              "0    [{'credit_id': '52fe4284c3a36847f8024f49', 'de...\n",
              "1    [{'credit_id': '52fe44bfc3a36847f80a7cd1', 'de...\n",
              "2    [{'credit_id': '52fe466a9251416c75077a89', 'de...\n",
              "3    [{'credit_id': '52fe44779251416c91011acb', 'de...\n",
              "4    [{'credit_id': '52fe44959251416c75039ed7', 'de...\n",
              "Name: crew, dtype: object"
            ]
          },
          "metadata": {
            "tags": []
          },
          "execution_count": 108
        }
      ]
    },
    {
      "cell_type": "code",
      "metadata": {
        "id": "PpA2mtkLbfVp"
      },
      "source": [
        "def get_director(x):\n",
        "    for i in x:\n",
        "        if i['job'] == 'Director':\n",
        "            return i['name']\n",
        "    return np.nan"
      ],
      "id": "PpA2mtkLbfVp",
      "execution_count": 109,
      "outputs": []
    },
    {
      "cell_type": "code",
      "metadata": {
        "id": "QXJi7rGbb4Jr",
        "colab": {
          "base_uri": "https://localhost:8080/"
        },
        "outputId": "69c554c2-b60a-47fa-b44a-d78d16ae0417"
      },
      "source": [
        "df['director'] = df['crew'].apply(get_director)\n",
        "df['director'] = df['director'].astype('str').apply(lambda x: str.lower(x.replace(\" \", \"\")))\n",
        "df.director.head()"
      ],
      "id": "QXJi7rGbb4Jr",
      "execution_count": 110,
      "outputs": [
        {
          "output_type": "execute_result",
          "data": {
            "text/plain": [
              "0      johnlasseter\n",
              "1       joejohnston\n",
              "2      howarddeutch\n",
              "3    forestwhitaker\n",
              "4      charlesshyer\n",
              "Name: director, dtype: object"
            ]
          },
          "metadata": {
            "tags": []
          },
          "execution_count": 110
        }
      ]
    },
    {
      "cell_type": "code",
      "metadata": {
        "id": "QJ_OBiqY079l",
        "outputId": "6f52912c-b05e-404c-8eb1-3a57c327eb2c",
        "colab": {
          "base_uri": "https://localhost:8080/",
          "height": 0
        }
      },
      "source": [
        "df.head()"
      ],
      "id": "QJ_OBiqY079l",
      "execution_count": 111,
      "outputs": [
        {
          "output_type": "execute_result",
          "data": {
            "text/html": [
              "<div>\n",
              "<style scoped>\n",
              "    .dataframe tbody tr th:only-of-type {\n",
              "        vertical-align: middle;\n",
              "    }\n",
              "\n",
              "    .dataframe tbody tr th {\n",
              "        vertical-align: top;\n",
              "    }\n",
              "\n",
              "    .dataframe thead th {\n",
              "        text-align: right;\n",
              "    }\n",
              "</style>\n",
              "<table border=\"1\" class=\"dataframe\">\n",
              "  <thead>\n",
              "    <tr style=\"text-align: right;\">\n",
              "      <th></th>\n",
              "      <th>id</th>\n",
              "      <th>title</th>\n",
              "      <th>release_date</th>\n",
              "      <th>vote_count</th>\n",
              "      <th>vote_average</th>\n",
              "      <th>genres</th>\n",
              "      <th>cast</th>\n",
              "      <th>crew</th>\n",
              "      <th>keywords</th>\n",
              "      <th>director</th>\n",
              "    </tr>\n",
              "  </thead>\n",
              "  <tbody>\n",
              "    <tr>\n",
              "      <th>0</th>\n",
              "      <td>862</td>\n",
              "      <td>Toy Story</td>\n",
              "      <td>1995-10-30</td>\n",
              "      <td>5415</td>\n",
              "      <td>7.7</td>\n",
              "      <td>animation comedy family</td>\n",
              "      <td>tomhanks timallen donrickles jimvarney wallace...</td>\n",
              "      <td>[{'credit_id': '52fe4284c3a36847f8024f49', 'de...</td>\n",
              "      <td>[{'id': 931, 'name': 'jealousy'}, {'id': 4290,...</td>\n",
              "      <td>johnlasseter</td>\n",
              "    </tr>\n",
              "    <tr>\n",
              "      <th>1</th>\n",
              "      <td>8844</td>\n",
              "      <td>Jumanji</td>\n",
              "      <td>1995-12-15</td>\n",
              "      <td>2413</td>\n",
              "      <td>6.9</td>\n",
              "      <td>adventure fantasy family</td>\n",
              "      <td>robinwilliams jonathanhyde kirstendunst bradle...</td>\n",
              "      <td>[{'credit_id': '52fe44bfc3a36847f80a7cd1', 'de...</td>\n",
              "      <td>[{'id': 10090, 'name': 'board game'}, {'id': 1...</td>\n",
              "      <td>joejohnston</td>\n",
              "    </tr>\n",
              "    <tr>\n",
              "      <th>2</th>\n",
              "      <td>15602</td>\n",
              "      <td>Grumpier Old Men</td>\n",
              "      <td>1995-12-22</td>\n",
              "      <td>92</td>\n",
              "      <td>6.5</td>\n",
              "      <td>romance comedy</td>\n",
              "      <td>waltermatthau jacklemmon ann-margret sophialor...</td>\n",
              "      <td>[{'credit_id': '52fe466a9251416c75077a89', 'de...</td>\n",
              "      <td>[{'id': 1495, 'name': 'fishing'}, {'id': 12392...</td>\n",
              "      <td>howarddeutch</td>\n",
              "    </tr>\n",
              "    <tr>\n",
              "      <th>3</th>\n",
              "      <td>31357</td>\n",
              "      <td>Waiting to Exhale</td>\n",
              "      <td>1995-12-22</td>\n",
              "      <td>34</td>\n",
              "      <td>6.1</td>\n",
              "      <td>comedy drama romance</td>\n",
              "      <td>whitneyhouston angelabassett lorettadevine lel...</td>\n",
              "      <td>[{'credit_id': '52fe44779251416c91011acb', 'de...</td>\n",
              "      <td>[{'id': 818, 'name': 'based on novel'}, {'id':...</td>\n",
              "      <td>forestwhitaker</td>\n",
              "    </tr>\n",
              "    <tr>\n",
              "      <th>4</th>\n",
              "      <td>11862</td>\n",
              "      <td>Father of the Bride Part II</td>\n",
              "      <td>1995-02-10</td>\n",
              "      <td>173</td>\n",
              "      <td>5.7</td>\n",
              "      <td>comedy</td>\n",
              "      <td>stevemartin dianekeaton martinshort kimberlywi...</td>\n",
              "      <td>[{'credit_id': '52fe44959251416c75039ed7', 'de...</td>\n",
              "      <td>[{'id': 1009, 'name': 'baby'}, {'id': 1599, 'n...</td>\n",
              "      <td>charlesshyer</td>\n",
              "    </tr>\n",
              "  </tbody>\n",
              "</table>\n",
              "</div>"
            ],
            "text/plain": [
              "      id  ...        director\n",
              "0    862  ...    johnlasseter\n",
              "1   8844  ...     joejohnston\n",
              "2  15602  ...    howarddeutch\n",
              "3  31357  ...  forestwhitaker\n",
              "4  11862  ...    charlesshyer\n",
              "\n",
              "[5 rows x 10 columns]"
            ]
          },
          "metadata": {
            "tags": []
          },
          "execution_count": 111
        }
      ]
    },
    {
      "cell_type": "code",
      "metadata": {
        "id": "r3gqf-IW1nXw",
        "outputId": "00abf1b4-8bd1-4309-e001-2611400f5186",
        "colab": {
          "base_uri": "https://localhost:8080/"
        }
      },
      "source": [
        "df.columns"
      ],
      "id": "r3gqf-IW1nXw",
      "execution_count": 112,
      "outputs": [
        {
          "output_type": "execute_result",
          "data": {
            "text/plain": [
              "Index(['id', 'title', 'release_date', 'vote_count', 'vote_average', 'genres',\n",
              "       'cast', 'crew', 'keywords', 'director'],\n",
              "      dtype='object')"
            ]
          },
          "metadata": {
            "tags": []
          },
          "execution_count": 112
        }
      ]
    },
    {
      "cell_type": "code",
      "metadata": {
        "id": "m1Wc_RlE15IN"
      },
      "source": [
        "df = df[['id', 'title', 'release_date', 'vote_count', 'vote_average', 'genres',\n",
        "       'cast', 'keywords', 'director']]"
      ],
      "id": "m1Wc_RlE15IN",
      "execution_count": 113,
      "outputs": []
    },
    {
      "cell_type": "markdown",
      "metadata": {
        "id": "P72me_RJlr71"
      },
      "source": [
        "\n",
        "\n",
        "---\n",
        "\n",
        "## Handling 'keywords' column\n",
        "\n",
        "---\n",
        "\n"
      ],
      "id": "P72me_RJlr71"
    },
    {
      "cell_type": "code",
      "metadata": {
        "id": "U7pw-aCmltb5"
      },
      "source": [
        "def handling_keywords_column_json(df_input):\n",
        "  df_input['keywords'] = df_input['keywords'].fillna('[]') \\\n",
        "                              .apply(ast.literal_eval) \\\n",
        "                              .apply(lambda x: [i['name'] for i in x] if isinstance(x, list) else [])\n",
        "\n",
        "  df_input.keywords = [', '.join(i) for i in df_input.keywords] \n",
        "  df_input.keywords = [i.replace(\" \", \"\") for i in df_input['keywords']]\n",
        "  df_input.keywords = [i.replace(\",\", \" \") for i in df_input['keywords']]"
      ],
      "id": "U7pw-aCmltb5",
      "execution_count": 114,
      "outputs": []
    },
    {
      "cell_type": "code",
      "metadata": {
        "id": "xnpeYAK2lu-5"
      },
      "source": [
        "handling_keywords_column_json(df)"
      ],
      "id": "xnpeYAK2lu-5",
      "execution_count": 115,
      "outputs": []
    },
    {
      "cell_type": "code",
      "metadata": {
        "id": "o7lVAUMz1f7e",
        "outputId": "581cda00-d035-4aaf-914a-8980411a860c",
        "colab": {
          "base_uri": "https://localhost:8080/",
          "height": 287
        }
      },
      "source": [
        "df.head()"
      ],
      "id": "o7lVAUMz1f7e",
      "execution_count": 117,
      "outputs": [
        {
          "output_type": "execute_result",
          "data": {
            "text/html": [
              "<div>\n",
              "<style scoped>\n",
              "    .dataframe tbody tr th:only-of-type {\n",
              "        vertical-align: middle;\n",
              "    }\n",
              "\n",
              "    .dataframe tbody tr th {\n",
              "        vertical-align: top;\n",
              "    }\n",
              "\n",
              "    .dataframe thead th {\n",
              "        text-align: right;\n",
              "    }\n",
              "</style>\n",
              "<table border=\"1\" class=\"dataframe\">\n",
              "  <thead>\n",
              "    <tr style=\"text-align: right;\">\n",
              "      <th></th>\n",
              "      <th>id</th>\n",
              "      <th>title</th>\n",
              "      <th>release_date</th>\n",
              "      <th>vote_count</th>\n",
              "      <th>vote_average</th>\n",
              "      <th>genres</th>\n",
              "      <th>cast</th>\n",
              "      <th>keywords</th>\n",
              "      <th>director</th>\n",
              "    </tr>\n",
              "  </thead>\n",
              "  <tbody>\n",
              "    <tr>\n",
              "      <th>0</th>\n",
              "      <td>862</td>\n",
              "      <td>Toy Story</td>\n",
              "      <td>1995-10-30</td>\n",
              "      <td>5415</td>\n",
              "      <td>7.7</td>\n",
              "      <td>animation comedy family</td>\n",
              "      <td>tomhanks timallen donrickles jimvarney wallace...</td>\n",
              "      <td>jealousy toy boy friendship friends rivalry bo...</td>\n",
              "      <td>johnlasseter</td>\n",
              "    </tr>\n",
              "    <tr>\n",
              "      <th>1</th>\n",
              "      <td>8844</td>\n",
              "      <td>Jumanji</td>\n",
              "      <td>1995-12-15</td>\n",
              "      <td>2413</td>\n",
              "      <td>6.9</td>\n",
              "      <td>adventure fantasy family</td>\n",
              "      <td>robinwilliams jonathanhyde kirstendunst bradle...</td>\n",
              "      <td>boardgame disappearance basedonchildren'sbook ...</td>\n",
              "      <td>joejohnston</td>\n",
              "    </tr>\n",
              "    <tr>\n",
              "      <th>2</th>\n",
              "      <td>15602</td>\n",
              "      <td>Grumpier Old Men</td>\n",
              "      <td>1995-12-22</td>\n",
              "      <td>92</td>\n",
              "      <td>6.5</td>\n",
              "      <td>romance comedy</td>\n",
              "      <td>waltermatthau jacklemmon ann-margret sophialor...</td>\n",
              "      <td>fishing bestfriend duringcreditsstinger oldmen</td>\n",
              "      <td>howarddeutch</td>\n",
              "    </tr>\n",
              "    <tr>\n",
              "      <th>3</th>\n",
              "      <td>31357</td>\n",
              "      <td>Waiting to Exhale</td>\n",
              "      <td>1995-12-22</td>\n",
              "      <td>34</td>\n",
              "      <td>6.1</td>\n",
              "      <td>comedy drama romance</td>\n",
              "      <td>whitneyhouston angelabassett lorettadevine lel...</td>\n",
              "      <td>basedonnovel interracialrelationship singlemot...</td>\n",
              "      <td>forestwhitaker</td>\n",
              "    </tr>\n",
              "    <tr>\n",
              "      <th>4</th>\n",
              "      <td>11862</td>\n",
              "      <td>Father of the Bride Part II</td>\n",
              "      <td>1995-02-10</td>\n",
              "      <td>173</td>\n",
              "      <td>5.7</td>\n",
              "      <td>comedy</td>\n",
              "      <td>stevemartin dianekeaton martinshort kimberlywi...</td>\n",
              "      <td>baby midlifecrisis confidence aging daughter m...</td>\n",
              "      <td>charlesshyer</td>\n",
              "    </tr>\n",
              "  </tbody>\n",
              "</table>\n",
              "</div>"
            ],
            "text/plain": [
              "      id  ...        director\n",
              "0    862  ...    johnlasseter\n",
              "1   8844  ...     joejohnston\n",
              "2  15602  ...    howarddeutch\n",
              "3  31357  ...  forestwhitaker\n",
              "4  11862  ...    charlesshyer\n",
              "\n",
              "[5 rows x 9 columns]"
            ]
          },
          "metadata": {
            "tags": []
          },
          "execution_count": 117
        }
      ]
    }
  ]
}