{
  "nbformat": 4,
  "nbformat_minor": 5,
  "metadata": {
    "kernelspec": {
      "display_name": "Python 3",
      "language": "python",
      "name": "python3"
    },
    "language_info": {
      "codemirror_mode": {
        "name": "ipython",
        "version": 3
      },
      "file_extension": ".py",
      "mimetype": "text/x-python",
      "name": "python",
      "nbconvert_exporter": "python",
      "pygments_lexer": "ipython3",
      "version": "3.8.8"
    },
    "colab": {
      "name": "content_recommendation_system.ipynb",
      "provenance": []
    }
  },
  "cells": [
    {
      "cell_type": "code",
      "metadata": {
        "id": "7NR4pzOEZ6N7",
        "colab": {
          "base_uri": "https://localhost:8080/"
        },
        "outputId": "688afcb5-7e07-4b7e-b556-a2e78c3a6a45"
      },
      "source": [
        "!pip install ast"
      ],
      "id": "7NR4pzOEZ6N7",
      "execution_count": 1,
      "outputs": [
        {
          "output_type": "stream",
          "text": [
            "Collecting ast\n",
            "  Downloading AST-0.0.2.tar.gz (19 kB)\n",
            "\u001b[33mWARNING: Discarding https://files.pythonhosted.org/packages/4b/fb/2b954d2a38c9a0ef1da6a46737a75b4dbf6f60e5dad0f267a4ec5ece20de/AST-0.0.2.tar.gz#sha256=dc5b79c6ba11aea72c59c791a0bc5ae483b4c18fec6f643002d6fae24361eba0 (from https://pypi.org/simple/ast/). Command errored out with exit status 1: python setup.py egg_info Check the logs for full command output.\u001b[0m\n",
            "  Downloading AST-0.0.1.tar.gz (19 kB)\n",
            "\u001b[33mWARNING: Discarding https://files.pythonhosted.org/packages/a8/5a/5497b01657ead33200c98009cb9e78fe5986c90cc39ddaa64306f37472cf/AST-0.0.1.tar.gz#sha256=3ed8a7bd3526cfc46de1b849d92b03ae4600ed2042151f187b756c50ade5c2b0 (from https://pypi.org/simple/ast/). Command errored out with exit status 1: python setup.py egg_info Check the logs for full command output.\u001b[0m\n",
            "\u001b[31mERROR: Could not find a version that satisfies the requirement ast (from versions: 0.0.1, 0.0.2)\u001b[0m\n",
            "\u001b[31mERROR: No matching distribution found for ast\u001b[0m\n"
          ],
          "name": "stdout"
        }
      ]
    },
    {
      "cell_type": "code",
      "metadata": {
        "id": "eu6eFIKdV5Ym",
        "colab": {
          "base_uri": "https://localhost:8080/"
        },
        "outputId": "db5792b8-09c7-4678-c447-97dd01568e99"
      },
      "source": [
        "from google.colab import drive\n",
        "drive.mount('/content/drive')"
      ],
      "id": "eu6eFIKdV5Ym",
      "execution_count": 2,
      "outputs": [
        {
          "output_type": "stream",
          "text": [
            "Mounted at /content/drive\n"
          ],
          "name": "stdout"
        }
      ]
    },
    {
      "cell_type": "code",
      "metadata": {
        "id": "a91c05a6"
      },
      "source": [
        "import pandas as pd\n",
        "import numpy as np\n",
        "import ast\n",
        "import nltk\n",
        "from nltk.stem.snowball import SnowballStemmer\n",
        "from sklearn.feature_extraction.text import CountVectorizer\n",
        "from sklearn.metrics.pairwise import cosine_similarity"
      ],
      "id": "a91c05a6",
      "execution_count": 3,
      "outputs": []
    },
    {
      "cell_type": "markdown",
      "metadata": {
        "id": "50IeSQTmmQOY"
      },
      "source": [
        "\n",
        "\n",
        "---\n",
        "\n",
        "# Importing the datasets\n",
        "\n",
        "---\n",
        "\n"
      ],
      "id": "50IeSQTmmQOY"
    },
    {
      "cell_type": "code",
      "metadata": {
        "id": "rionNU-_VzQe"
      },
      "source": [
        "df_links_small = pd.read_csv('/content/drive/MyDrive/DataSets/the-movies-dataset/links_small.csv')"
      ],
      "id": "rionNU-_VzQe",
      "execution_count": 4,
      "outputs": []
    },
    {
      "cell_type": "code",
      "metadata": {
        "id": "N4RiuDTsWpbR",
        "colab": {
          "base_uri": "https://localhost:8080/",
          "height": 203
        },
        "outputId": "2a21d6ae-c4c7-4bbe-8db9-5027170cd9d6"
      },
      "source": [
        "df_links_small.head()"
      ],
      "id": "N4RiuDTsWpbR",
      "execution_count": 5,
      "outputs": [
        {
          "output_type": "execute_result",
          "data": {
            "text/html": [
              "<div>\n",
              "<style scoped>\n",
              "    .dataframe tbody tr th:only-of-type {\n",
              "        vertical-align: middle;\n",
              "    }\n",
              "\n",
              "    .dataframe tbody tr th {\n",
              "        vertical-align: top;\n",
              "    }\n",
              "\n",
              "    .dataframe thead th {\n",
              "        text-align: right;\n",
              "    }\n",
              "</style>\n",
              "<table border=\"1\" class=\"dataframe\">\n",
              "  <thead>\n",
              "    <tr style=\"text-align: right;\">\n",
              "      <th></th>\n",
              "      <th>movieId</th>\n",
              "      <th>imdbId</th>\n",
              "      <th>tmdbId</th>\n",
              "    </tr>\n",
              "  </thead>\n",
              "  <tbody>\n",
              "    <tr>\n",
              "      <th>0</th>\n",
              "      <td>1</td>\n",
              "      <td>114709</td>\n",
              "      <td>862.0</td>\n",
              "    </tr>\n",
              "    <tr>\n",
              "      <th>1</th>\n",
              "      <td>2</td>\n",
              "      <td>113497</td>\n",
              "      <td>8844.0</td>\n",
              "    </tr>\n",
              "    <tr>\n",
              "      <th>2</th>\n",
              "      <td>3</td>\n",
              "      <td>113228</td>\n",
              "      <td>15602.0</td>\n",
              "    </tr>\n",
              "    <tr>\n",
              "      <th>3</th>\n",
              "      <td>4</td>\n",
              "      <td>114885</td>\n",
              "      <td>31357.0</td>\n",
              "    </tr>\n",
              "    <tr>\n",
              "      <th>4</th>\n",
              "      <td>5</td>\n",
              "      <td>113041</td>\n",
              "      <td>11862.0</td>\n",
              "    </tr>\n",
              "  </tbody>\n",
              "</table>\n",
              "</div>"
            ],
            "text/plain": [
              "   movieId  imdbId   tmdbId\n",
              "0        1  114709    862.0\n",
              "1        2  113497   8844.0\n",
              "2        3  113228  15602.0\n",
              "3        4  114885  31357.0\n",
              "4        5  113041  11862.0"
            ]
          },
          "metadata": {
            "tags": []
          },
          "execution_count": 5
        }
      ]
    },
    {
      "cell_type": "code",
      "metadata": {
        "id": "Kcmb2RjwWPza"
      },
      "source": [
        "df_keywords = pd.read_csv('/content/drive/MyDrive/DataSets/the-movies-dataset/keywords.csv')"
      ],
      "id": "Kcmb2RjwWPza",
      "execution_count": 6,
      "outputs": []
    },
    {
      "cell_type": "code",
      "metadata": {
        "id": "l2YK4LbhWwdR",
        "colab": {
          "base_uri": "https://localhost:8080/",
          "height": 203
        },
        "outputId": "648c2f1a-7670-4d2d-b7f0-54356c214fbc"
      },
      "source": [
        "df_keywords.head()"
      ],
      "id": "l2YK4LbhWwdR",
      "execution_count": 7,
      "outputs": [
        {
          "output_type": "execute_result",
          "data": {
            "text/html": [
              "<div>\n",
              "<style scoped>\n",
              "    .dataframe tbody tr th:only-of-type {\n",
              "        vertical-align: middle;\n",
              "    }\n",
              "\n",
              "    .dataframe tbody tr th {\n",
              "        vertical-align: top;\n",
              "    }\n",
              "\n",
              "    .dataframe thead th {\n",
              "        text-align: right;\n",
              "    }\n",
              "</style>\n",
              "<table border=\"1\" class=\"dataframe\">\n",
              "  <thead>\n",
              "    <tr style=\"text-align: right;\">\n",
              "      <th></th>\n",
              "      <th>id</th>\n",
              "      <th>keywords</th>\n",
              "    </tr>\n",
              "  </thead>\n",
              "  <tbody>\n",
              "    <tr>\n",
              "      <th>0</th>\n",
              "      <td>862</td>\n",
              "      <td>[{'id': 931, 'name': 'jealousy'}, {'id': 4290,...</td>\n",
              "    </tr>\n",
              "    <tr>\n",
              "      <th>1</th>\n",
              "      <td>8844</td>\n",
              "      <td>[{'id': 10090, 'name': 'board game'}, {'id': 1...</td>\n",
              "    </tr>\n",
              "    <tr>\n",
              "      <th>2</th>\n",
              "      <td>15602</td>\n",
              "      <td>[{'id': 1495, 'name': 'fishing'}, {'id': 12392...</td>\n",
              "    </tr>\n",
              "    <tr>\n",
              "      <th>3</th>\n",
              "      <td>31357</td>\n",
              "      <td>[{'id': 818, 'name': 'based on novel'}, {'id':...</td>\n",
              "    </tr>\n",
              "    <tr>\n",
              "      <th>4</th>\n",
              "      <td>11862</td>\n",
              "      <td>[{'id': 1009, 'name': 'baby'}, {'id': 1599, 'n...</td>\n",
              "    </tr>\n",
              "  </tbody>\n",
              "</table>\n",
              "</div>"
            ],
            "text/plain": [
              "      id                                           keywords\n",
              "0    862  [{'id': 931, 'name': 'jealousy'}, {'id': 4290,...\n",
              "1   8844  [{'id': 10090, 'name': 'board game'}, {'id': 1...\n",
              "2  15602  [{'id': 1495, 'name': 'fishing'}, {'id': 12392...\n",
              "3  31357  [{'id': 818, 'name': 'based on novel'}, {'id':...\n",
              "4  11862  [{'id': 1009, 'name': 'baby'}, {'id': 1599, 'n..."
            ]
          },
          "metadata": {
            "tags": []
          },
          "execution_count": 7
        }
      ]
    },
    {
      "cell_type": "code",
      "metadata": {
        "id": "0luKVIysWVKc"
      },
      "source": [
        "df_credits = pd.read_csv('/content/drive/MyDrive/DataSets/the-movies-dataset/credits.csv')"
      ],
      "id": "0luKVIysWVKc",
      "execution_count": 8,
      "outputs": []
    },
    {
      "cell_type": "code",
      "metadata": {
        "id": "Iy3sWFHBWy5n",
        "colab": {
          "base_uri": "https://localhost:8080/",
          "height": 203
        },
        "outputId": "7d2abd35-aa9d-4bf9-8dc3-320399c6c31c"
      },
      "source": [
        "df_credits.head()"
      ],
      "id": "Iy3sWFHBWy5n",
      "execution_count": 9,
      "outputs": [
        {
          "output_type": "execute_result",
          "data": {
            "text/html": [
              "<div>\n",
              "<style scoped>\n",
              "    .dataframe tbody tr th:only-of-type {\n",
              "        vertical-align: middle;\n",
              "    }\n",
              "\n",
              "    .dataframe tbody tr th {\n",
              "        vertical-align: top;\n",
              "    }\n",
              "\n",
              "    .dataframe thead th {\n",
              "        text-align: right;\n",
              "    }\n",
              "</style>\n",
              "<table border=\"1\" class=\"dataframe\">\n",
              "  <thead>\n",
              "    <tr style=\"text-align: right;\">\n",
              "      <th></th>\n",
              "      <th>cast</th>\n",
              "      <th>crew</th>\n",
              "      <th>id</th>\n",
              "    </tr>\n",
              "  </thead>\n",
              "  <tbody>\n",
              "    <tr>\n",
              "      <th>0</th>\n",
              "      <td>[{'cast_id': 14, 'character': 'Woody (voice)',...</td>\n",
              "      <td>[{'credit_id': '52fe4284c3a36847f8024f49', 'de...</td>\n",
              "      <td>862</td>\n",
              "    </tr>\n",
              "    <tr>\n",
              "      <th>1</th>\n",
              "      <td>[{'cast_id': 1, 'character': 'Alan Parrish', '...</td>\n",
              "      <td>[{'credit_id': '52fe44bfc3a36847f80a7cd1', 'de...</td>\n",
              "      <td>8844</td>\n",
              "    </tr>\n",
              "    <tr>\n",
              "      <th>2</th>\n",
              "      <td>[{'cast_id': 2, 'character': 'Max Goldman', 'c...</td>\n",
              "      <td>[{'credit_id': '52fe466a9251416c75077a89', 'de...</td>\n",
              "      <td>15602</td>\n",
              "    </tr>\n",
              "    <tr>\n",
              "      <th>3</th>\n",
              "      <td>[{'cast_id': 1, 'character': \"Savannah 'Vannah...</td>\n",
              "      <td>[{'credit_id': '52fe44779251416c91011acb', 'de...</td>\n",
              "      <td>31357</td>\n",
              "    </tr>\n",
              "    <tr>\n",
              "      <th>4</th>\n",
              "      <td>[{'cast_id': 1, 'character': 'George Banks', '...</td>\n",
              "      <td>[{'credit_id': '52fe44959251416c75039ed7', 'de...</td>\n",
              "      <td>11862</td>\n",
              "    </tr>\n",
              "  </tbody>\n",
              "</table>\n",
              "</div>"
            ],
            "text/plain": [
              "                                                cast  ...     id\n",
              "0  [{'cast_id': 14, 'character': 'Woody (voice)',...  ...    862\n",
              "1  [{'cast_id': 1, 'character': 'Alan Parrish', '...  ...   8844\n",
              "2  [{'cast_id': 2, 'character': 'Max Goldman', 'c...  ...  15602\n",
              "3  [{'cast_id': 1, 'character': \"Savannah 'Vannah...  ...  31357\n",
              "4  [{'cast_id': 1, 'character': 'George Banks', '...  ...  11862\n",
              "\n",
              "[5 rows x 3 columns]"
            ]
          },
          "metadata": {
            "tags": []
          },
          "execution_count": 9
        }
      ]
    },
    {
      "cell_type": "code",
      "metadata": {
        "id": "LF5yQnrpWcEG"
      },
      "source": [
        "df_movies_metadata_fixed = pd.read_csv('/content/drive/MyDrive/DataSets/the-movies-dataset/movies_metadata_fixed.csv')"
      ],
      "id": "LF5yQnrpWcEG",
      "execution_count": 10,
      "outputs": []
    },
    {
      "cell_type": "code",
      "metadata": {
        "id": "IgbOb5BqW6CU",
        "colab": {
          "base_uri": "https://localhost:8080/",
          "height": 184
        },
        "outputId": "a01c63d0-8f64-4fa0-d602-d3c188c096e7"
      },
      "source": [
        "df_movies_metadata_fixed.head(1)"
      ],
      "id": "IgbOb5BqW6CU",
      "execution_count": 11,
      "outputs": [
        {
          "output_type": "execute_result",
          "data": {
            "text/html": [
              "<div>\n",
              "<style scoped>\n",
              "    .dataframe tbody tr th:only-of-type {\n",
              "        vertical-align: middle;\n",
              "    }\n",
              "\n",
              "    .dataframe tbody tr th {\n",
              "        vertical-align: top;\n",
              "    }\n",
              "\n",
              "    .dataframe thead th {\n",
              "        text-align: right;\n",
              "    }\n",
              "</style>\n",
              "<table border=\"1\" class=\"dataframe\">\n",
              "  <thead>\n",
              "    <tr style=\"text-align: right;\">\n",
              "      <th></th>\n",
              "      <th>adult</th>\n",
              "      <th>belongs_to_collection</th>\n",
              "      <th>budget</th>\n",
              "      <th>genres</th>\n",
              "      <th>homepage</th>\n",
              "      <th>id</th>\n",
              "      <th>imdb_id</th>\n",
              "      <th>original_language</th>\n",
              "      <th>original_title</th>\n",
              "      <th>overview</th>\n",
              "      <th>popularity</th>\n",
              "      <th>poster_path</th>\n",
              "      <th>production_companies</th>\n",
              "      <th>production_countries</th>\n",
              "      <th>release_date</th>\n",
              "      <th>revenue</th>\n",
              "      <th>runtime</th>\n",
              "      <th>spoken_languages</th>\n",
              "      <th>status</th>\n",
              "      <th>tagline</th>\n",
              "      <th>title</th>\n",
              "      <th>video</th>\n",
              "      <th>vote_average</th>\n",
              "      <th>vote_count</th>\n",
              "    </tr>\n",
              "  </thead>\n",
              "  <tbody>\n",
              "    <tr>\n",
              "      <th>0</th>\n",
              "      <td>False</td>\n",
              "      <td>{'id': 10194, 'name': 'Toy Story Collection', ...</td>\n",
              "      <td>30000000</td>\n",
              "      <td>[{'id': 16, 'name': 'Animation'}, {'id': 35, '...</td>\n",
              "      <td>http://toystory.disney.com/toy-story</td>\n",
              "      <td>862</td>\n",
              "      <td>tt0114709</td>\n",
              "      <td>en</td>\n",
              "      <td>Toy Story</td>\n",
              "      <td>Led by Woody, Andy's toys live happily in his ...</td>\n",
              "      <td>21.946943</td>\n",
              "      <td>/rhIRbceoE9lR4veEXuwCC2wARtG.jpg</td>\n",
              "      <td>[{'name': 'Pixar Animation Studios', 'id': 3}]</td>\n",
              "      <td>[{'iso_3166_1': 'US', 'name': 'United States o...</td>\n",
              "      <td>1995-10-30</td>\n",
              "      <td>373554033</td>\n",
              "      <td>81.0</td>\n",
              "      <td>[{'iso_639_1': 'en', 'name': 'English'}]</td>\n",
              "      <td>Released</td>\n",
              "      <td>NaN</td>\n",
              "      <td>Toy Story</td>\n",
              "      <td>False</td>\n",
              "      <td>7.7</td>\n",
              "      <td>5415</td>\n",
              "    </tr>\n",
              "  </tbody>\n",
              "</table>\n",
              "</div>"
            ],
            "text/plain": [
              "   adult  ... vote_count\n",
              "0  False  ...       5415\n",
              "\n",
              "[1 rows x 24 columns]"
            ]
          },
          "metadata": {
            "tags": []
          },
          "execution_count": 11
        }
      ]
    },
    {
      "cell_type": "markdown",
      "metadata": {
        "id": "lt62tMhfXbGz"
      },
      "source": [
        "\n",
        "\n",
        "---\n",
        "# Feature selection\n",
        "---\n",
        "\n",
        "\n",
        "\n"
      ],
      "id": "lt62tMhfXbGz"
    },
    {
      "cell_type": "code",
      "metadata": {
        "id": "H_v_gu8KXegD",
        "colab": {
          "base_uri": "https://localhost:8080/",
          "height": 203
        },
        "outputId": "71a6c8f0-e3a2-4cbe-d7bc-9c1d5d7a7d5d"
      },
      "source": [
        "df_movies_metadata_fixed = df_movies_metadata_fixed[['id', 'title', 'release_date', 'vote_count', 'vote_average', 'genres']]\n",
        "df_movies_metadata_fixed.head()"
      ],
      "id": "H_v_gu8KXegD",
      "execution_count": 12,
      "outputs": [
        {
          "output_type": "execute_result",
          "data": {
            "text/html": [
              "<div>\n",
              "<style scoped>\n",
              "    .dataframe tbody tr th:only-of-type {\n",
              "        vertical-align: middle;\n",
              "    }\n",
              "\n",
              "    .dataframe tbody tr th {\n",
              "        vertical-align: top;\n",
              "    }\n",
              "\n",
              "    .dataframe thead th {\n",
              "        text-align: right;\n",
              "    }\n",
              "</style>\n",
              "<table border=\"1\" class=\"dataframe\">\n",
              "  <thead>\n",
              "    <tr style=\"text-align: right;\">\n",
              "      <th></th>\n",
              "      <th>id</th>\n",
              "      <th>title</th>\n",
              "      <th>release_date</th>\n",
              "      <th>vote_count</th>\n",
              "      <th>vote_average</th>\n",
              "      <th>genres</th>\n",
              "    </tr>\n",
              "  </thead>\n",
              "  <tbody>\n",
              "    <tr>\n",
              "      <th>0</th>\n",
              "      <td>862</td>\n",
              "      <td>Toy Story</td>\n",
              "      <td>1995-10-30</td>\n",
              "      <td>5415</td>\n",
              "      <td>7.7</td>\n",
              "      <td>[{'id': 16, 'name': 'Animation'}, {'id': 35, '...</td>\n",
              "    </tr>\n",
              "    <tr>\n",
              "      <th>1</th>\n",
              "      <td>8844</td>\n",
              "      <td>Jumanji</td>\n",
              "      <td>1995-12-15</td>\n",
              "      <td>2413</td>\n",
              "      <td>6.9</td>\n",
              "      <td>[{'id': 12, 'name': 'Adventure'}, {'id': 14, '...</td>\n",
              "    </tr>\n",
              "    <tr>\n",
              "      <th>2</th>\n",
              "      <td>15602</td>\n",
              "      <td>Grumpier Old Men</td>\n",
              "      <td>1995-12-22</td>\n",
              "      <td>92</td>\n",
              "      <td>6.5</td>\n",
              "      <td>[{'id': 10749, 'name': 'Romance'}, {'id': 35, ...</td>\n",
              "    </tr>\n",
              "    <tr>\n",
              "      <th>3</th>\n",
              "      <td>31357</td>\n",
              "      <td>Waiting to Exhale</td>\n",
              "      <td>1995-12-22</td>\n",
              "      <td>34</td>\n",
              "      <td>6.1</td>\n",
              "      <td>[{'id': 35, 'name': 'Comedy'}, {'id': 18, 'nam...</td>\n",
              "    </tr>\n",
              "    <tr>\n",
              "      <th>4</th>\n",
              "      <td>11862</td>\n",
              "      <td>Father of the Bride Part II</td>\n",
              "      <td>1995-02-10</td>\n",
              "      <td>173</td>\n",
              "      <td>5.7</td>\n",
              "      <td>[{'id': 35, 'name': 'Comedy'}]</td>\n",
              "    </tr>\n",
              "  </tbody>\n",
              "</table>\n",
              "</div>"
            ],
            "text/plain": [
              "      id  ...                                             genres\n",
              "0    862  ...  [{'id': 16, 'name': 'Animation'}, {'id': 35, '...\n",
              "1   8844  ...  [{'id': 12, 'name': 'Adventure'}, {'id': 14, '...\n",
              "2  15602  ...  [{'id': 10749, 'name': 'Romance'}, {'id': 35, ...\n",
              "3  31357  ...  [{'id': 35, 'name': 'Comedy'}, {'id': 18, 'nam...\n",
              "4  11862  ...                     [{'id': 35, 'name': 'Comedy'}]\n",
              "\n",
              "[5 rows x 6 columns]"
            ]
          },
          "metadata": {
            "tags": []
          },
          "execution_count": 12
        }
      ]
    },
    {
      "cell_type": "code",
      "metadata": {
        "id": "egfFKcRYYS50"
      },
      "source": [
        "df = df_movies_metadata_fixed.merge(df_credits, how='inner', on='id')\n",
        "df = df.merge(df_keywords, how='inner', on='id')"
      ],
      "id": "egfFKcRYYS50",
      "execution_count": 13,
      "outputs": []
    },
    {
      "cell_type": "code",
      "metadata": {
        "id": "9cqCjq0f-DUs"
      },
      "source": [
        "df_links_small = df_links_small.rename(columns={'tmdbId': 'id'})"
      ],
      "id": "9cqCjq0f-DUs",
      "execution_count": 14,
      "outputs": []
    },
    {
      "cell_type": "code",
      "metadata": {
        "colab": {
          "base_uri": "https://localhost:8080/",
          "height": 97
        },
        "id": "N7vnRtQI-Qdx",
        "outputId": "790bfd19-364e-4212-bb78-e44ff1e4d84b"
      },
      "source": [
        "df = df.merge(df_links_small, how='inner', on='id')\n",
        "df.head(1)"
      ],
      "id": "N7vnRtQI-Qdx",
      "execution_count": 15,
      "outputs": [
        {
          "output_type": "execute_result",
          "data": {
            "text/html": [
              "<div>\n",
              "<style scoped>\n",
              "    .dataframe tbody tr th:only-of-type {\n",
              "        vertical-align: middle;\n",
              "    }\n",
              "\n",
              "    .dataframe tbody tr th {\n",
              "        vertical-align: top;\n",
              "    }\n",
              "\n",
              "    .dataframe thead th {\n",
              "        text-align: right;\n",
              "    }\n",
              "</style>\n",
              "<table border=\"1\" class=\"dataframe\">\n",
              "  <thead>\n",
              "    <tr style=\"text-align: right;\">\n",
              "      <th></th>\n",
              "      <th>id</th>\n",
              "      <th>title</th>\n",
              "      <th>release_date</th>\n",
              "      <th>vote_count</th>\n",
              "      <th>vote_average</th>\n",
              "      <th>genres</th>\n",
              "      <th>cast</th>\n",
              "      <th>crew</th>\n",
              "      <th>keywords</th>\n",
              "      <th>movieId</th>\n",
              "      <th>imdbId</th>\n",
              "    </tr>\n",
              "  </thead>\n",
              "  <tbody>\n",
              "    <tr>\n",
              "      <th>0</th>\n",
              "      <td>862</td>\n",
              "      <td>Toy Story</td>\n",
              "      <td>1995-10-30</td>\n",
              "      <td>5415</td>\n",
              "      <td>7.7</td>\n",
              "      <td>[{'id': 16, 'name': 'Animation'}, {'id': 35, '...</td>\n",
              "      <td>[{'cast_id': 14, 'character': 'Woody (voice)',...</td>\n",
              "      <td>[{'credit_id': '52fe4284c3a36847f8024f49', 'de...</td>\n",
              "      <td>[{'id': 931, 'name': 'jealousy'}, {'id': 4290,...</td>\n",
              "      <td>1</td>\n",
              "      <td>114709</td>\n",
              "    </tr>\n",
              "  </tbody>\n",
              "</table>\n",
              "</div>"
            ],
            "text/plain": [
              "    id      title  ... movieId  imdbId\n",
              "0  862  Toy Story  ...       1  114709\n",
              "\n",
              "[1 rows x 11 columns]"
            ]
          },
          "metadata": {
            "tags": []
          },
          "execution_count": 15
        }
      ]
    },
    {
      "cell_type": "code",
      "metadata": {
        "id": "IZT8Hb4hly7E"
      },
      "source": [
        "df = df.drop(columns='movieId')"
      ],
      "id": "IZT8Hb4hly7E",
      "execution_count": 16,
      "outputs": []
    },
    {
      "cell_type": "code",
      "metadata": {
        "id": "N2jll94UaKg6",
        "colab": {
          "base_uri": "https://localhost:8080/"
        },
        "outputId": "50e1bdf7-619b-412f-c3e3-1f641c2a3f32"
      },
      "source": [
        "df.shape"
      ],
      "id": "N2jll94UaKg6",
      "execution_count": 17,
      "outputs": [
        {
          "output_type": "execute_result",
          "data": {
            "text/plain": [
              "(9219, 10)"
            ]
          },
          "metadata": {
            "tags": []
          },
          "execution_count": 17
        }
      ]
    },
    {
      "cell_type": "markdown",
      "metadata": {
        "id": "QSRcnNNIazKP"
      },
      "source": [
        "\n",
        "\n",
        "---\n",
        "\n",
        "# Work with categorical data\n",
        "\n",
        "---\n",
        "\n"
      ],
      "id": "QSRcnNNIazKP"
    },
    {
      "cell_type": "markdown",
      "metadata": {
        "id": "HYQuhIWPZgZ-"
      },
      "source": [
        "---\n",
        "## Handling 'genres' column\n",
        "---"
      ],
      "id": "HYQuhIWPZgZ-"
    },
    {
      "cell_type": "code",
      "metadata": {
        "id": "s8k0b9HLZnP9"
      },
      "source": [
        "def handling_genres_column(data):\n",
        "  data['genres'] = data['genres'].fillna('[]') \\\n",
        "                             .apply(ast.literal_eval) \\\n",
        "                             .apply(lambda x: [i['name'] for i in x] if isinstance(x, list) else [])\n",
        "\n",
        "  data['genres'] = [', '.join(i) for i in data['genres']]\n",
        "  data['genres'] = pd.DataFrame(data=map(str.lower, data['genres'])) \n",
        "  data['genres'] = [i.replace(\",\", \"\") for i in data['genres']]\n",
        "\n",
        "  return data"
      ],
      "id": "s8k0b9HLZnP9",
      "execution_count": 18,
      "outputs": []
    },
    {
      "cell_type": "code",
      "metadata": {
        "id": "BLs5qkhEZ21C"
      },
      "source": [
        "df = handling_genres_column(df)"
      ],
      "id": "BLs5qkhEZ21C",
      "execution_count": 21,
      "outputs": []
    },
    {
      "cell_type": "code",
      "metadata": {
        "id": "zHxgJzSXktUA",
        "colab": {
          "base_uri": "https://localhost:8080/"
        },
        "outputId": "7cc64a5c-3780-4915-ef64-c84e6257cc6c"
      },
      "source": [
        "df.genres.head()"
      ],
      "id": "zHxgJzSXktUA",
      "execution_count": 22,
      "outputs": [
        {
          "output_type": "execute_result",
          "data": {
            "text/plain": [
              "0     animation comedy family\n",
              "1    adventure fantasy family\n",
              "2              romance comedy\n",
              "3        comedy drama romance\n",
              "4                      comedy\n",
              "Name: genres, dtype: object"
            ]
          },
          "metadata": {
            "tags": []
          },
          "execution_count": 22
        }
      ]
    },
    {
      "cell_type": "markdown",
      "metadata": {
        "id": "O6YtzUDYarjy"
      },
      "source": [
        "\n",
        "\n",
        "---\n",
        "\n",
        "## Handling 'cast' column\n",
        "\n",
        "---\n",
        "\n"
      ],
      "id": "O6YtzUDYarjy"
    },
    {
      "cell_type": "code",
      "metadata": {
        "id": "Og26A8FpnAEC"
      },
      "source": [
        "def handling_cast_column(data):\n",
        "  data['cast'] = data['cast'].fillna('[]') \\\n",
        "                             .apply(ast.literal_eval) \\\n",
        "                             .apply(lambda x: [i['name'] for i in x] if isinstance(x, list) else [])\n",
        "\n",
        "  data['cast'] = [', '.join(i) for i in data['cast']]\n",
        "  data['cast'] = pd.DataFrame(data=map(str.lower, data['cast'])) \n",
        "  data['cast'] = [i.replace(\" \", \"\") for i in data['cast']]\n",
        "  data['cast'] = [i.replace(\",\", \" \") for i in data['cast']]\n",
        "\n",
        "  return data"
      ],
      "id": "Og26A8FpnAEC",
      "execution_count": 23,
      "outputs": []
    },
    {
      "cell_type": "code",
      "metadata": {
        "id": "hDiQnalmbtun"
      },
      "source": [
        "df = handling_cast_column(df)"
      ],
      "id": "hDiQnalmbtun",
      "execution_count": 24,
      "outputs": []
    },
    {
      "cell_type": "code",
      "metadata": {
        "id": "HN0Q2k_QsV3q",
        "colab": {
          "base_uri": "https://localhost:8080/"
        },
        "outputId": "9cfd7976-cd5f-45bd-c1b9-767fcf675f4b"
      },
      "source": [
        "df.cast.head()"
      ],
      "id": "HN0Q2k_QsV3q",
      "execution_count": 25,
      "outputs": [
        {
          "output_type": "execute_result",
          "data": {
            "text/plain": [
              "0    tomhanks timallen donrickles jimvarney wallace...\n",
              "1    robinwilliams jonathanhyde kirstendunst bradle...\n",
              "2    waltermatthau jacklemmon ann-margret sophialor...\n",
              "3    whitneyhouston angelabassett lorettadevine lel...\n",
              "4    stevemartin dianekeaton martinshort kimberlywi...\n",
              "Name: cast, dtype: object"
            ]
          },
          "metadata": {
            "tags": []
          },
          "execution_count": 25
        }
      ]
    },
    {
      "cell_type": "markdown",
      "metadata": {
        "id": "VLIjrDNmdKuF"
      },
      "source": [
        "\n",
        "\n",
        "---\n",
        "\n",
        "## Handling 'crew' column\n",
        "\n",
        "---\n",
        "\n"
      ],
      "id": "VLIjrDNmdKuF"
    },
    {
      "cell_type": "code",
      "metadata": {
        "id": "efNGs7XAboOT"
      },
      "source": [
        "df['crew'] = df['crew'].apply(ast.literal_eval)"
      ],
      "id": "efNGs7XAboOT",
      "execution_count": 26,
      "outputs": []
    },
    {
      "cell_type": "code",
      "metadata": {
        "id": "PpA2mtkLbfVp"
      },
      "source": [
        "def get_director(x):\n",
        "    for i in x:\n",
        "        if i['job'] == 'Director':\n",
        "            return i['name']\n",
        "    return np.nan"
      ],
      "id": "PpA2mtkLbfVp",
      "execution_count": 27,
      "outputs": []
    },
    {
      "cell_type": "code",
      "metadata": {
        "id": "QXJi7rGbb4Jr",
        "colab": {
          "base_uri": "https://localhost:8080/"
        },
        "outputId": "777851d7-663a-4d12-eef6-10567364edbc"
      },
      "source": [
        "df['director'] = df['crew'].apply(get_director)\n",
        "df['director'] = df['director'].astype('str').apply(lambda x: str.lower(x.replace(\" \", \"\")))\n",
        "df.director.head()"
      ],
      "id": "QXJi7rGbb4Jr",
      "execution_count": 28,
      "outputs": [
        {
          "output_type": "execute_result",
          "data": {
            "text/plain": [
              "0      johnlasseter\n",
              "1       joejohnston\n",
              "2      howarddeutch\n",
              "3    forestwhitaker\n",
              "4      charlesshyer\n",
              "Name: director, dtype: object"
            ]
          },
          "metadata": {
            "tags": []
          },
          "execution_count": 28
        }
      ]
    },
    {
      "cell_type": "code",
      "metadata": {
        "id": "CEtR2gKBej1u"
      },
      "source": [
        "df = df.drop(columns='crew')"
      ],
      "id": "CEtR2gKBej1u",
      "execution_count": 29,
      "outputs": []
    },
    {
      "cell_type": "markdown",
      "metadata": {
        "id": "P72me_RJlr71"
      },
      "source": [
        "\n",
        "\n",
        "---\n",
        "\n",
        "## Handling 'keywords' column\n",
        "\n",
        "---\n",
        "\n"
      ],
      "id": "P72me_RJlr71"
    },
    {
      "cell_type": "code",
      "metadata": {
        "id": "U7pw-aCmltb5"
      },
      "source": [
        "def handling_keywords_column(data):\n",
        "  data['keywords'] = data['keywords'].fillna('[]') \\\n",
        "                              .apply(ast.literal_eval) \\\n",
        "                              .apply(lambda x: [i['name'] for i in x] if isinstance(x, list) else [])\n",
        "  return data"
      ],
      "id": "U7pw-aCmltb5",
      "execution_count": 33,
      "outputs": []
    },
    {
      "cell_type": "code",
      "metadata": {
        "id": "xnpeYAK2lu-5"
      },
      "source": [
        "df = handling_keywords_column(df)"
      ],
      "id": "xnpeYAK2lu-5",
      "execution_count": 34,
      "outputs": []
    },
    {
      "cell_type": "code",
      "metadata": {
        "id": "o7lVAUMz1f7e",
        "colab": {
          "base_uri": "https://localhost:8080/"
        },
        "outputId": "2ecec736-79d4-4c26-9aed-f06c586a2805"
      },
      "source": [
        "df.keywords.head()"
      ],
      "id": "o7lVAUMz1f7e",
      "execution_count": 35,
      "outputs": [
        {
          "output_type": "execute_result",
          "data": {
            "text/plain": [
              "0    [jealousy, toy, boy, friendship, friends, riva...\n",
              "1    [board game, disappearance, based on children'...\n",
              "2    [fishing, best friend, duringcreditsstinger, o...\n",
              "3    [based on novel, interracial relationship, sin...\n",
              "4    [baby, midlife crisis, confidence, aging, daug...\n",
              "Name: keywords, dtype: object"
            ]
          },
          "metadata": {
            "tags": []
          },
          "execution_count": 35
        }
      ]
    },
    {
      "cell_type": "markdown",
      "metadata": {
        "id": "mQlpwfgCfEga"
      },
      "source": [
        "\n",
        "\n",
        "---\n",
        "\n",
        "### Stemming of 'keywords' column\n",
        "\n",
        "---\n",
        "\n"
      ],
      "id": "mQlpwfgCfEga"
    },
    {
      "cell_type": "code",
      "metadata": {
        "id": "boQFxprAiVS3"
      },
      "source": [
        "stemmer = SnowballStemmer(language='english')"
      ],
      "id": "boQFxprAiVS3",
      "execution_count": 36,
      "outputs": []
    },
    {
      "cell_type": "code",
      "metadata": {
        "id": "d8xit4Wnpb4u"
      },
      "source": [
        "df['keywords'] = df['keywords'].apply(lambda x: [stemmer.stem(i) for i in x])\n",
        "df['keywords'] = [', '.join(i) for i in df['keywords']] \n",
        "df['keywords'] = [i.replace(\" \", \"\") for i in df['keywords']]\n",
        "df['keywords'] = [i.replace(\",\", \" \") for i in df['keywords']]"
      ],
      "id": "d8xit4Wnpb4u",
      "execution_count": 37,
      "outputs": []
    },
    {
      "cell_type": "code",
      "metadata": {
        "colab": {
          "base_uri": "https://localhost:8080/"
        },
        "id": "BR_VOGWCknhX",
        "outputId": "59d2c8de-bd73-4c54-d7c9-d483196c607e"
      },
      "source": [
        "df.keywords.head()"
      ],
      "id": "BR_VOGWCknhX",
      "execution_count": 38,
      "outputs": [
        {
          "output_type": "execute_result",
          "data": {
            "text/plain": [
              "0    jealousi toy boy friendship friend rivalri boy...\n",
              "1    boardgam disappear basedonchildren'sbook newho...\n",
              "2            fish bestfriend duringcreditssting oldmen\n",
              "3    basedonnovel interracialrelationship singlemot...\n",
              "4    babi midlifecrisi confid age daughter motherda...\n",
              "Name: keywords, dtype: object"
            ]
          },
          "metadata": {
            "tags": []
          },
          "execution_count": 38
        }
      ]
    },
    {
      "cell_type": "markdown",
      "metadata": {
        "id": "tKONQsTbrs7i"
      },
      "source": [
        "\n",
        "\n",
        "---\n",
        "# CountVectorizer\n",
        "---\n",
        "\n",
        "\n",
        "\n"
      ],
      "id": "tKONQsTbrs7i"
    },
    {
      "cell_type": "code",
      "metadata": {
        "id": "EnOl3LHx23CT"
      },
      "source": [
        "def concat_fields(data):\n",
        "    concat = data['genres'] + ' ' + data['cast'] + ' ' + data['keywords']  + ' ' + data['director'] \n",
        "    result = ''.join([str(i).lower() for i in concat])\n",
        "    return result"
      ],
      "id": "EnOl3LHx23CT",
      "execution_count": 40,
      "outputs": []
    },
    {
      "cell_type": "code",
      "metadata": {
        "id": "efqz7JLM24yr"
      },
      "source": [
        "df['information'] = df.apply(lambda x: concat_fields(x), axis=1)"
      ],
      "id": "efqz7JLM24yr",
      "execution_count": 41,
      "outputs": []
    },
    {
      "cell_type": "code",
      "metadata": {
        "id": "ariK6XYQhrx4",
        "outputId": "9c72f0e8-bc61-410d-a47c-f1d442ad37f9",
        "colab": {
          "base_uri": "https://localhost:8080/"
        }
      },
      "source": [
        "df.information.head()"
      ],
      "id": "ariK6XYQhrx4",
      "execution_count": 42,
      "outputs": [
        {
          "output_type": "execute_result",
          "data": {
            "text/plain": [
              "0    animation comedy family tomhanks timallen donr...\n",
              "1    adventure fantasy family robinwilliams jonatha...\n",
              "2    romance comedy waltermatthau jacklemmon ann-ma...\n",
              "3    comedy drama romance whitneyhouston angelabass...\n",
              "4    comedy stevemartin dianekeaton martinshort kim...\n",
              "Name: information, dtype: object"
            ]
          },
          "metadata": {
            "tags": []
          },
          "execution_count": 42
        }
      ]
    },
    {
      "cell_type": "code",
      "metadata": {
        "colab": {
          "base_uri": "https://localhost:8080/",
          "height": 52
        },
        "id": "Q0uac0UM4P2K",
        "outputId": "3e409af4-1107-483f-a0b1-9cd9481b51e3"
      },
      "source": [
        "df.information[0]"
      ],
      "id": "Q0uac0UM4P2K",
      "execution_count": 43,
      "outputs": [
        {
          "output_type": "execute_result",
          "data": {
            "application/vnd.google.colaboratory.intrinsic+json": {
              "type": "string"
            },
            "text/plain": [
              "'animation comedy family tomhanks timallen donrickles jimvarney wallaceshawn johnratzenberger anniepotts johnmorris erikvondetten lauriemetcalf r.leeermey sarahfreeman pennjillette jealousi toy boy friendship friend rivalri boynextdoor newtoy toycomestolif johnlasseter'"
            ]
          },
          "metadata": {
            "tags": []
          },
          "execution_count": 43
        }
      ]
    },
    {
      "cell_type": "markdown",
      "metadata": {
        "id": "byeyPrXTmbYv"
      },
      "source": [
        "\n",
        "\n",
        "---\n",
        "# Arrangement of columns in the dataset\n",
        "---\n",
        "\n",
        "\n",
        "\n"
      ],
      "id": "byeyPrXTmbYv"
    },
    {
      "cell_type": "code",
      "metadata": {
        "id": "oQzyx1e8mESi"
      },
      "source": [
        "df = df[['id', 'imdbId', 'title', 'release_date', 'vote_count', 'vote_average', \n",
        "         'genres', 'cast', 'keywords', 'director', 'information']]"
      ],
      "id": "oQzyx1e8mESi",
      "execution_count": 51,
      "outputs": []
    },
    {
      "cell_type": "code",
      "metadata": {
        "id": "usEycv6Qo5pR",
        "outputId": "2eeba9f0-33bf-4081-9e3e-f4dca3dbd5ed",
        "colab": {
          "base_uri": "https://localhost:8080/",
          "height": 321
        }
      },
      "source": [
        "df.head()"
      ],
      "id": "usEycv6Qo5pR",
      "execution_count": 52,
      "outputs": [
        {
          "output_type": "execute_result",
          "data": {
            "text/html": [
              "<div>\n",
              "<style scoped>\n",
              "    .dataframe tbody tr th:only-of-type {\n",
              "        vertical-align: middle;\n",
              "    }\n",
              "\n",
              "    .dataframe tbody tr th {\n",
              "        vertical-align: top;\n",
              "    }\n",
              "\n",
              "    .dataframe thead th {\n",
              "        text-align: right;\n",
              "    }\n",
              "</style>\n",
              "<table border=\"1\" class=\"dataframe\">\n",
              "  <thead>\n",
              "    <tr style=\"text-align: right;\">\n",
              "      <th></th>\n",
              "      <th>id</th>\n",
              "      <th>imdbId</th>\n",
              "      <th>title</th>\n",
              "      <th>release_date</th>\n",
              "      <th>vote_count</th>\n",
              "      <th>vote_average</th>\n",
              "      <th>genres</th>\n",
              "      <th>cast</th>\n",
              "      <th>keywords</th>\n",
              "      <th>director</th>\n",
              "      <th>information</th>\n",
              "    </tr>\n",
              "  </thead>\n",
              "  <tbody>\n",
              "    <tr>\n",
              "      <th>0</th>\n",
              "      <td>862</td>\n",
              "      <td>114709</td>\n",
              "      <td>Toy Story</td>\n",
              "      <td>1995-10-30</td>\n",
              "      <td>5415</td>\n",
              "      <td>7.7</td>\n",
              "      <td>animation comedy family</td>\n",
              "      <td>tomhanks timallen donrickles jimvarney wallace...</td>\n",
              "      <td>jealousi toy boy friendship friend rivalri boy...</td>\n",
              "      <td>johnlasseter</td>\n",
              "      <td>animation comedy family tomhanks timallen donr...</td>\n",
              "    </tr>\n",
              "    <tr>\n",
              "      <th>1</th>\n",
              "      <td>8844</td>\n",
              "      <td>113497</td>\n",
              "      <td>Jumanji</td>\n",
              "      <td>1995-12-15</td>\n",
              "      <td>2413</td>\n",
              "      <td>6.9</td>\n",
              "      <td>adventure fantasy family</td>\n",
              "      <td>robinwilliams jonathanhyde kirstendunst bradle...</td>\n",
              "      <td>boardgam disappear basedonchildren'sbook newho...</td>\n",
              "      <td>joejohnston</td>\n",
              "      <td>adventure fantasy family robinwilliams jonatha...</td>\n",
              "    </tr>\n",
              "    <tr>\n",
              "      <th>2</th>\n",
              "      <td>15602</td>\n",
              "      <td>113228</td>\n",
              "      <td>Grumpier Old Men</td>\n",
              "      <td>1995-12-22</td>\n",
              "      <td>92</td>\n",
              "      <td>6.5</td>\n",
              "      <td>romance comedy</td>\n",
              "      <td>waltermatthau jacklemmon ann-margret sophialor...</td>\n",
              "      <td>fish bestfriend duringcreditssting oldmen</td>\n",
              "      <td>howarddeutch</td>\n",
              "      <td>romance comedy waltermatthau jacklemmon ann-ma...</td>\n",
              "    </tr>\n",
              "    <tr>\n",
              "      <th>3</th>\n",
              "      <td>31357</td>\n",
              "      <td>114885</td>\n",
              "      <td>Waiting to Exhale</td>\n",
              "      <td>1995-12-22</td>\n",
              "      <td>34</td>\n",
              "      <td>6.1</td>\n",
              "      <td>comedy drama romance</td>\n",
              "      <td>whitneyhouston angelabassett lorettadevine lel...</td>\n",
              "      <td>basedonnovel interracialrelationship singlemot...</td>\n",
              "      <td>forestwhitaker</td>\n",
              "      <td>comedy drama romance whitneyhouston angelabass...</td>\n",
              "    </tr>\n",
              "    <tr>\n",
              "      <th>4</th>\n",
              "      <td>11862</td>\n",
              "      <td>113041</td>\n",
              "      <td>Father of the Bride Part II</td>\n",
              "      <td>1995-02-10</td>\n",
              "      <td>173</td>\n",
              "      <td>5.7</td>\n",
              "      <td>comedy</td>\n",
              "      <td>stevemartin dianekeaton martinshort kimberlywi...</td>\n",
              "      <td>babi midlifecrisi confid age daughter motherda...</td>\n",
              "      <td>charlesshyer</td>\n",
              "      <td>comedy stevemartin dianekeaton martinshort kim...</td>\n",
              "    </tr>\n",
              "  </tbody>\n",
              "</table>\n",
              "</div>"
            ],
            "text/plain": [
              "      id  ...                                        information\n",
              "0    862  ...  animation comedy family tomhanks timallen donr...\n",
              "1   8844  ...  adventure fantasy family robinwilliams jonatha...\n",
              "2  15602  ...  romance comedy waltermatthau jacklemmon ann-ma...\n",
              "3  31357  ...  comedy drama romance whitneyhouston angelabass...\n",
              "4  11862  ...  comedy stevemartin dianekeaton martinshort kim...\n",
              "\n",
              "[5 rows x 11 columns]"
            ]
          },
          "metadata": {
            "tags": []
          },
          "execution_count": 52
        }
      ]
    },
    {
      "cell_type": "markdown",
      "metadata": {
        "id": "SZo8SRgay4WO"
      },
      "source": [
        "---\n",
        "# Recommendation\n",
        "---"
      ],
      "id": "SZo8SRgay4WO"
    },
    {
      "cell_type": "code",
      "metadata": {
        "colab": {
          "base_uri": "https://localhost:8080/"
        },
        "id": "x38QPxIZ8wYu",
        "outputId": "d09b258b-b7cb-418e-be26-85edcf99fd6f"
      },
      "source": [
        "vectorizer = CountVectorizer(ngram_range=(1, 2), min_df=2)\n",
        "count_matrix = vectorizer.fit_transform(df['information'])\n",
        "count_matrix.shape"
      ],
      "id": "x38QPxIZ8wYu",
      "execution_count": 45,
      "outputs": [
        {
          "output_type": "execute_result",
          "data": {
            "text/plain": [
              "(9219, 43875)"
            ]
          },
          "metadata": {
            "tags": []
          },
          "execution_count": 45
        }
      ]
    },
    {
      "cell_type": "code",
      "metadata": {
        "colab": {
          "base_uri": "https://localhost:8080/"
        },
        "id": "vneNwjWn9gAf",
        "outputId": "907cc8d2-02da-4679-a4ab-92000ed3a356"
      },
      "source": [
        "cosine_sim = cosine_similarity(count_matrix, count_matrix)\n",
        "cosine_sim.shape"
      ],
      "id": "vneNwjWn9gAf",
      "execution_count": 46,
      "outputs": [
        {
          "output_type": "execute_result",
          "data": {
            "text/plain": [
              "(9219, 9219)"
            ]
          },
          "metadata": {
            "tags": []
          },
          "execution_count": 46
        }
      ]
    },
    {
      "cell_type": "code",
      "metadata": {
        "id": "a09GSUrm-lMZ"
      },
      "source": [
        "titles = df.title\n",
        "indices = pd.Series(df.index, index=df['title'])"
      ],
      "id": "a09GSUrm-lMZ",
      "execution_count": 47,
      "outputs": []
    },
    {
      "cell_type": "code",
      "metadata": {
        "id": "_WadHTqZAUpB"
      },
      "source": [
        "def get_recommendations(title):\n",
        "    idx = indices[title]\n",
        "    sim_scores = list(enumerate(cosine_sim[idx]))\n",
        "    sim_scores = sorted(sim_scores, key=lambda x: x[1], reverse=True)\n",
        "    sim_scores = sim_scores[1:31]\n",
        "    movie_indices = [i[0] for i in sim_scores]\n",
        "    return titles.iloc[movie_indices]"
      ],
      "id": "_WadHTqZAUpB",
      "execution_count": 48,
      "outputs": []
    },
    {
      "cell_type": "code",
      "metadata": {
        "colab": {
          "base_uri": "https://localhost:8080/"
        },
        "id": "mjy65PgZAaR9",
        "outputId": "59bbebc6-0b35-4b40-cc1f-2272e8b08c26"
      },
      "source": [
        "get_recommendations('The Dark Knight').head(10)"
      ],
      "id": "mjy65PgZAaR9",
      "execution_count": 49,
      "outputs": [
        {
          "output_type": "execute_result",
          "data": {
            "text/plain": [
              "6218                      Batman Begins\n",
              "8031              The Dark Knight Rises\n",
              "9121                       İtirazım Var\n",
              "1134                     Batman Returns\n",
              "7659         Batman: Under the Red Hood\n",
              "8927            Kidnapping Mr. Heineken\n",
              "7362    Gangster's Paradise: Jerusalema\n",
              "5943                           Thursday\n",
              "4406                            Brother\n",
              "5834                 Gone in 60 Seconds\n",
              "Name: title, dtype: object"
            ]
          },
          "metadata": {
            "tags": []
          },
          "execution_count": 49
        }
      ]
    }
  ]
}